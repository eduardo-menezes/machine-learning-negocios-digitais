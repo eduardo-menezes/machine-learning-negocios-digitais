{
  "nbformat": 4,
  "nbformat_minor": 0,
  "metadata": {
    "colab": {
      "name": "Data Analytics_Machine Learning no Marketing Digital.ipynb",
      "provenance": [],
      "collapsed_sections": [],
      "toc_visible": true
    },
    "kernelspec": {
      "name": "python3",
      "display_name": "Python 3"
    },
    "language_info": {
      "name": "python"
    }
  },
  "cells": [
    {
      "cell_type": "markdown",
      "metadata": {
        "id": "rRQ2s_9cLB3T"
      },
      "source": [
        "# Sobre as Features\n",
        "  * visitId é a identificação de um único usuário;\n",
        "  * visitStartTime é quando ele começou a visita;\n",
        "  * visitNumber é um número que indica se é a primeira visita (1) ou segunda visita (2), etc;\n",
        "  * device é o tipo de dispositivo utilizado pelo visitorId para acessar o site;\n",
        "  * channel é o canal que ele utilizou para acessar o site. (google por meio de pesquisa encontrando o site, por exemplo);\n",
        "  * Duration  é o tempo que o visitorId ficou no site\n",
        "  * Revenue é o quanto o visitorId gastou no site;"
      ]
    },
    {
      "cell_type": "markdown",
      "metadata": {
        "id": "ojTddr1pNtzP"
      },
      "source": [
        "# Perguntas que posso fazer para obter insights\n",
        "  * Quais dipositivos gastam mais? (tablet, celular, computador pessoal);\n",
        "  * Quais canais de acesso tem o maiores gastos? (GoogleSearch, Facebook, email);\n",
        "  * Quanto tempo, em média, leva um usuário até ele fazer uma compra?\n",
        "  "
      ]
    },
    {
      "cell_type": "markdown",
      "metadata": {
        "id": "stvODW-yEmnB"
      },
      "source": [
        "# Informações\n",
        " * Cada linha da base de dados é uma sessão (uma visita que o usuário fez);\n",
        " * Logo, temos usuários <= sessões ;\n",
        " * Deve-se alterar o tipo da coluna \"date\" , fillVisitorId e \"visitId\"\tque foram identificadas como int (inteiro) porque não conseguiremos quebrar esse numero gerados em ( ano, mes, dia) se ele estiver como inteiro e não string. Ex: 20160408 como int não deixa extrair 2016, 04 e 08. \n",
        " * \"fullVisitorId\"  foi identificado como inteiro e isso é um problema porque as vezes um numero começa com zeros e o pyhon corta ele. Ex: 050 fica 50\n",
        " * visitStartTime é inteiro mesmo porque é um TIMESTAMP de quando o usuário começou a visita. TIMESTAMP é uma conversão de segundo para calcular datas."
      ]
    },
    {
      "cell_type": "markdown",
      "metadata": {
        "id": "Nw0_wYIJBWDi"
      },
      "source": [
        "# Importação das bibliotecas\n",
        "\n"
      ]
    },
    {
      "cell_type": "code",
      "metadata": {
        "id": "s69aj4szBboF"
      },
      "source": [
        "import pandas as pd\n",
        "import numpy as np\n",
        "import matplotlib.pyplot as plt"
      ],
      "execution_count": null,
      "outputs": []
    },
    {
      "cell_type": "code",
      "metadata": {
        "id": "TqEpumg1Bwcp"
      },
      "source": [
        "# alocando do dataframe em df\n",
        "df  = pd.read_csv(\"train.csv\")"
      ],
      "execution_count": null,
      "outputs": []
    },
    {
      "cell_type": "code",
      "metadata": {
        "id": "UGfWL4bXB8O-",
        "colab": {
          "base_uri": "https://localhost:8080/",
          "height": 479
        },
        "outputId": "2bf0f33c-c45e-4dc1-b313-eacdff315963"
      },
      "source": [
        "# olhando as 5 primeiras linhas de df\n",
        "df.head()"
      ],
      "execution_count": null,
      "outputs": [
        {
          "output_type": "execute_result",
          "data": {
            "text/html": [
              "<div>\n",
              "<style scoped>\n",
              "    .dataframe tbody tr th:only-of-type {\n",
              "        vertical-align: middle;\n",
              "    }\n",
              "\n",
              "    .dataframe tbody tr th {\n",
              "        vertical-align: top;\n",
              "    }\n",
              "\n",
              "    .dataframe thead th {\n",
              "        text-align: right;\n",
              "    }\n",
              "</style>\n",
              "<table border=\"1\" class=\"dataframe\">\n",
              "  <thead>\n",
              "    <tr style=\"text-align: right;\">\n",
              "      <th></th>\n",
              "      <th>channelGrouping</th>\n",
              "      <th>date</th>\n",
              "      <th>device</th>\n",
              "      <th>fullVisitorId</th>\n",
              "      <th>geoNetwork</th>\n",
              "      <th>sessionId</th>\n",
              "      <th>socialEngagementType</th>\n",
              "      <th>totals</th>\n",
              "      <th>trafficSource</th>\n",
              "      <th>visitId</th>\n",
              "      <th>visitNumber</th>\n",
              "      <th>visitStartTime</th>\n",
              "    </tr>\n",
              "  </thead>\n",
              "  <tbody>\n",
              "    <tr>\n",
              "      <th>0</th>\n",
              "      <td>Organic Search</td>\n",
              "      <td>20160902</td>\n",
              "      <td>{\"browser\": \"Chrome\", \"browserVersion\": \"not a...</td>\n",
              "      <td>9674781571160116268</td>\n",
              "      <td>{\"continent\": \"Asia\", \"subContinent\": \"Southea...</td>\n",
              "      <td>9674781571160116268_1472804607</td>\n",
              "      <td>Not Socially Engaged</td>\n",
              "      <td>{\"visits\": \"1\", \"hits\": \"1\", \"pageviews\": \"1\",...</td>\n",
              "      <td>{\"campaign\": \"(not set)\", \"source\": \"google\", ...</td>\n",
              "      <td>1472804607</td>\n",
              "      <td>1</td>\n",
              "      <td>1472804607</td>\n",
              "    </tr>\n",
              "    <tr>\n",
              "      <th>1</th>\n",
              "      <td>Organic Search</td>\n",
              "      <td>20160902</td>\n",
              "      <td>{\"browser\": \"Chrome\", \"browserVersion\": \"not a...</td>\n",
              "      <td>8590648239310839049</td>\n",
              "      <td>{\"continent\": \"Europe\", \"subContinent\": \"Easte...</td>\n",
              "      <td>8590648239310839049_1472835928</td>\n",
              "      <td>Not Socially Engaged</td>\n",
              "      <td>{\"visits\": \"1\", \"hits\": \"1\", \"pageviews\": \"1\",...</td>\n",
              "      <td>{\"campaign\": \"(not set)\", \"source\": \"google\", ...</td>\n",
              "      <td>1472835928</td>\n",
              "      <td>1</td>\n",
              "      <td>1472835928</td>\n",
              "    </tr>\n",
              "    <tr>\n",
              "      <th>2</th>\n",
              "      <td>Affiliates</td>\n",
              "      <td>20160902</td>\n",
              "      <td>{\"browser\": \"Chrome\", \"browserVersion\": \"not a...</td>\n",
              "      <td>9772828344252850532</td>\n",
              "      <td>{\"continent\": \"Americas\", \"subContinent\": \"Sou...</td>\n",
              "      <td>9772828344252850532_1472856802</td>\n",
              "      <td>Not Socially Engaged</td>\n",
              "      <td>{\"visits\": \"1\", \"hits\": \"1\", \"pageviews\": \"1\",...</td>\n",
              "      <td>{\"campaign\": \"Data Share Promo\", \"source\": \"Pa...</td>\n",
              "      <td>1472856802</td>\n",
              "      <td>1</td>\n",
              "      <td>1472856802</td>\n",
              "    </tr>\n",
              "    <tr>\n",
              "      <th>3</th>\n",
              "      <td>Organic Search</td>\n",
              "      <td>20160902</td>\n",
              "      <td>{\"browser\": \"Safari\", \"browserVersion\": \"not a...</td>\n",
              "      <td>1350700416054916432</td>\n",
              "      <td>{\"continent\": \"Americas\", \"subContinent\": \"Nor...</td>\n",
              "      <td>1350700416054916432_1472879649</td>\n",
              "      <td>Not Socially Engaged</td>\n",
              "      <td>{\"visits\": \"1\", \"hits\": \"1\", \"pageviews\": \"1\",...</td>\n",
              "      <td>{\"campaign\": \"(not set)\", \"source\": \"google\", ...</td>\n",
              "      <td>1472879649</td>\n",
              "      <td>2</td>\n",
              "      <td>1472879649</td>\n",
              "    </tr>\n",
              "    <tr>\n",
              "      <th>4</th>\n",
              "      <td>Organic Search</td>\n",
              "      <td>20160902</td>\n",
              "      <td>{\"browser\": \"Safari\", \"browserVersion\": \"not a...</td>\n",
              "      <td>1350700416054916432</td>\n",
              "      <td>{\"continent\": \"Americas\", \"subContinent\": \"Nor...</td>\n",
              "      <td>1350700416054916432_1472829671</td>\n",
              "      <td>Not Socially Engaged</td>\n",
              "      <td>{\"visits\": \"1\", \"hits\": \"5\", \"pageviews\": \"4\",...</td>\n",
              "      <td>{\"campaign\": \"(not set)\", \"source\": \"google\", ...</td>\n",
              "      <td>1472829671</td>\n",
              "      <td>1</td>\n",
              "      <td>1472829671</td>\n",
              "    </tr>\n",
              "  </tbody>\n",
              "</table>\n",
              "</div>"
            ],
            "text/plain": [
              "  channelGrouping      date  ... visitNumber  visitStartTime\n",
              "0  Organic Search  20160902  ...           1      1472804607\n",
              "1  Organic Search  20160902  ...           1      1472835928\n",
              "2      Affiliates  20160902  ...           1      1472856802\n",
              "3  Organic Search  20160902  ...           2      1472879649\n",
              "4  Organic Search  20160902  ...           1      1472829671\n",
              "\n",
              "[5 rows x 12 columns]"
            ]
          },
          "metadata": {
            "tags": []
          },
          "execution_count": 80
        }
      ]
    },
    {
      "cell_type": "code",
      "metadata": {
        "id": "wRPMZpVhB-C-",
        "colab": {
          "base_uri": "https://localhost:8080/"
        },
        "outputId": "f5248a02-c467-474b-a415-d3b1c3a0f79e"
      },
      "source": [
        "# mostra (o número de linhas, o número de colunas)\n",
        "df.shape"
      ],
      "execution_count": null,
      "outputs": [
        {
          "output_type": "execute_result",
          "data": {
            "text/plain": [
              "(12283, 12)"
            ]
          },
          "metadata": {
            "tags": []
          },
          "execution_count": 81
        }
      ]
    },
    {
      "cell_type": "code",
      "metadata": {
        "id": "kJMx5T-ZErxM",
        "colab": {
          "base_uri": "https://localhost:8080/"
        },
        "outputId": "2a07bc28-5e55-4f0a-9df3-cd82cc21c153"
      },
      "source": [
        "df.fullVisitorId.values"
      ],
      "execution_count": null,
      "outputs": [
        {
          "output_type": "execute_result",
          "data": {
            "text/plain": [
              "array([9674781571160116268, 8590648239310839049, 9772828344252850532, ...,\n",
              "       5437703324867866371, 8869363093179043393, 2905034275926274980],\n",
              "      dtype=uint64)"
            ]
          },
          "metadata": {
            "tags": []
          },
          "execution_count": 82
        }
      ]
    },
    {
      "cell_type": "code",
      "metadata": {
        "id": "1_9xdDKmCS4z",
        "colab": {
          "base_uri": "https://localhost:8080/"
        },
        "outputId": "96044854-4d8a-40d7-cb1d-6dad1fe8df63"
      },
      "source": [
        "# Para saber o número de usuários ( valores únicos)\n",
        "len(df.fullVisitorId.unique())\n"
      ],
      "execution_count": null,
      "outputs": [
        {
          "output_type": "execute_result",
          "data": {
            "text/plain": [
              "9996"
            ]
          },
          "metadata": {
            "tags": []
          },
          "execution_count": 83
        }
      ]
    },
    {
      "cell_type": "code",
      "metadata": {
        "id": "cWxR63a7DrBU",
        "colab": {
          "base_uri": "https://localhost:8080/"
        },
        "outputId": "81e200b8-cb7a-4b5c-ff94-20fee0b3052d"
      },
      "source": [
        "# mostra como o pandas identificou os objetos no dataframe\n",
        "df.dtypes"
      ],
      "execution_count": null,
      "outputs": [
        {
          "output_type": "execute_result",
          "data": {
            "text/plain": [
              "channelGrouping         object\n",
              "date                     int64\n",
              "device                  object\n",
              "fullVisitorId           uint64\n",
              "geoNetwork              object\n",
              "sessionId               object\n",
              "socialEngagementType    object\n",
              "totals                  object\n",
              "trafficSource           object\n",
              "visitId                  int64\n",
              "visitNumber              int64\n",
              "visitStartTime           int64\n",
              "dtype: object"
            ]
          },
          "metadata": {
            "tags": []
          },
          "execution_count": 84
        }
      ]
    },
    {
      "cell_type": "code",
      "metadata": {
        "id": "x0CXFrlnFEi-"
      },
      "source": [
        "# Como pode ter havido perda de dados na leitura pelo pandas ( perda de zeros nese caso),\n",
        "# o ideal é fazer a leitura novamente e colocar o tipo de dado da coluna como argumento\n",
        "# em dicionário\n",
        "\n",
        "df = pd.read_csv(\"train.csv\", dtype={\"date\":object,\"fullVisitorId\": object, \"visitId\":object})"
      ],
      "execution_count": null,
      "outputs": []
    },
    {
      "cell_type": "code",
      "metadata": {
        "id": "gb3SbTeFJVLv",
        "colab": {
          "base_uri": "https://localhost:8080/"
        },
        "outputId": "db32292a-846f-4928-9f7c-9c37169d8b07"
      },
      "source": [
        "df.dtypes"
      ],
      "execution_count": null,
      "outputs": [
        {
          "output_type": "execute_result",
          "data": {
            "text/plain": [
              "channelGrouping         object\n",
              "date                    object\n",
              "device                  object\n",
              "fullVisitorId           object\n",
              "geoNetwork              object\n",
              "sessionId               object\n",
              "socialEngagementType    object\n",
              "totals                  object\n",
              "trafficSource           object\n",
              "visitId                 object\n",
              "visitNumber              int64\n",
              "visitStartTime           int64\n",
              "dtype: object"
            ]
          },
          "metadata": {
            "tags": []
          },
          "execution_count": 86
        }
      ]
    },
    {
      "cell_type": "code",
      "metadata": {
        "id": "PV_hIrN4QhNm",
        "colab": {
          "base_uri": "https://localhost:8080/",
          "height": 137
        },
        "outputId": "418363e1-ef77-4958-c911-eeaa51fb9705"
      },
      "source": [
        "## Vamos verificar o que a coluna \"device\" armazena ( já que é possível ver que existem informações)\n",
        "## que não são mostradas\n",
        "\n",
        "df.device[0]\n",
        "\n",
        "# o resultado é um tipo de dado \"chave:valor\" ou json ou dicionário aqui no python\n",
        "# Isso ocorre como uma forma de agregar valor/informações em uma categoria\n",
        "# Para passar esses valores para o modelo, é necessário criar novas colunas para cada chave"
      ],
      "execution_count": null,
      "outputs": [
        {
          "output_type": "execute_result",
          "data": {
            "application/vnd.google.colaboratory.intrinsic+json": {
              "type": "string"
            },
            "text/plain": [
              "'{\"browser\": \"Chrome\", \"browserVersion\": \"not available in demo dataset\", \"browserSize\": \"not available in demo dataset\", \"operatingSystem\": \"Windows\", \"operatingSystemVersion\": \"not available in demo dataset\", \"isMobile\": false, \"mobileDeviceBranding\": \"not available in demo dataset\", \"mobileDeviceModel\": \"not available in demo dataset\", \"mobileInputSelector\": \"not available in demo dataset\", \"mobileDeviceInfo\": \"not available in demo dataset\", \"mobileDeviceMarketingName\": \"not available in demo dataset\", \"flashVersion\": \"not available in demo dataset\", \"language\": \"not available in demo dataset\", \"screenColors\": \"not available in demo dataset\", \"screenResolution\": \"not available in demo dataset\", \"deviceCategory\": \"desktop\"}'"
            ]
          },
          "metadata": {
            "tags": []
          },
          "execution_count": 87
        }
      ]
    },
    {
      "cell_type": "code",
      "metadata": {
        "id": "VvPLgJhmQyQY"
      },
      "source": [
        "# Como no python esse tipo de dado é lido como dicionário, para que seja possível transformas as chaves\n",
        "# em colunas, é necessário converter esses valores em dicionário. A biblioteca que faz isso é json\n",
        "import json\n"
      ],
      "execution_count": null,
      "outputs": []
    },
    {
      "cell_type": "code",
      "metadata": {
        "id": "q22WpJBMSN6M",
        "colab": {
          "base_uri": "https://localhost:8080/"
        },
        "outputId": "32c13b51-a17d-4aea-d31e-1d05a1d94d7e"
      },
      "source": [
        "## agora, vamos converter em dicionário\n",
        "json.loads(df.device.iloc[0])"
      ],
      "execution_count": null,
      "outputs": [
        {
          "output_type": "execute_result",
          "data": {
            "text/plain": [
              "{'browser': 'Chrome',\n",
              " 'browserSize': 'not available in demo dataset',\n",
              " 'browserVersion': 'not available in demo dataset',\n",
              " 'deviceCategory': 'desktop',\n",
              " 'flashVersion': 'not available in demo dataset',\n",
              " 'isMobile': False,\n",
              " 'language': 'not available in demo dataset',\n",
              " 'mobileDeviceBranding': 'not available in demo dataset',\n",
              " 'mobileDeviceInfo': 'not available in demo dataset',\n",
              " 'mobileDeviceMarketingName': 'not available in demo dataset',\n",
              " 'mobileDeviceModel': 'not available in demo dataset',\n",
              " 'mobileInputSelector': 'not available in demo dataset',\n",
              " 'operatingSystem': 'Windows',\n",
              " 'operatingSystemVersion': 'not available in demo dataset',\n",
              " 'screenColors': 'not available in demo dataset',\n",
              " 'screenResolution': 'not available in demo dataset'}"
            ]
          },
          "metadata": {
            "tags": []
          },
          "execution_count": 89
        }
      ]
    },
    {
      "cell_type": "code",
      "metadata": {
        "id": "LubviEGqSib2",
        "colab": {
          "base_uri": "https://localhost:8080/"
        },
        "outputId": "9438e9b5-5501-46c9-ff02-7deb64f77b06"
      },
      "source": [
        "# verifica se é dicionário\n",
        "type(json.loads(df.device.iloc[0]))"
      ],
      "execution_count": null,
      "outputs": [
        {
          "output_type": "execute_result",
          "data": {
            "text/plain": [
              "dict"
            ]
          },
          "metadata": {
            "tags": []
          },
          "execution_count": 90
        }
      ]
    },
    {
      "cell_type": "code",
      "metadata": {
        "id": "Swwc_VIRTEv5",
        "colab": {
          "base_uri": "https://localhost:8080/",
          "height": 231
        },
        "outputId": "306be3fb-5d2b-4edc-bbdc-b3dae2435a80"
      },
      "source": [
        "## Agora é possível colocar as chaves como colunas\n",
        "# Cria-se uma comprehension para ler linha-a-linha as colunas que são do tipo chave:valor\n",
        "#exemplo\n",
        "pd.DataFrame([json.loads(linha) for linha in df.device]) # aqui ja coloca em dataframe direto\n",
        "\n",
        "#[output if condition else output for l in list]"
      ],
      "execution_count": null,
      "outputs": [
        {
          "output_type": "error",
          "ename": "NameError",
          "evalue": "ignored",
          "traceback": [
            "\u001b[0;31m---------------------------------------------------------------------------\u001b[0m",
            "\u001b[0;31mNameError\u001b[0m                                 Traceback (most recent call last)",
            "\u001b[0;32m<ipython-input-1-87d813a94d17>\u001b[0m in \u001b[0;36m<module>\u001b[0;34m()\u001b[0m\n\u001b[1;32m      2\u001b[0m \u001b[0;31m# Cria-se uma comprehension para ler linha-a-linha as colunas que são do tipo chave:valor\u001b[0m\u001b[0;34m\u001b[0m\u001b[0;34m\u001b[0m\u001b[0;34m\u001b[0m\u001b[0m\n\u001b[1;32m      3\u001b[0m \u001b[0;31m#exemplo\u001b[0m\u001b[0;34m\u001b[0m\u001b[0;34m\u001b[0m\u001b[0;34m\u001b[0m\u001b[0m\n\u001b[0;32m----> 4\u001b[0;31m \u001b[0mpd\u001b[0m\u001b[0;34m.\u001b[0m\u001b[0mDataFrame\u001b[0m\u001b[0;34m(\u001b[0m\u001b[0;34m[\u001b[0m\u001b[0mjson\u001b[0m\u001b[0;34m.\u001b[0m\u001b[0mdumps\u001b[0m\u001b[0;34m(\u001b[0m\u001b[0mlinha\u001b[0m\u001b[0;34m)\u001b[0m \u001b[0;32mfor\u001b[0m \u001b[0mlinha\u001b[0m \u001b[0;32min\u001b[0m \u001b[0mdf\u001b[0m\u001b[0;34m.\u001b[0m\u001b[0mdevice\u001b[0m\u001b[0;34m]\u001b[0m\u001b[0;34m)\u001b[0m \u001b[0;31m# aqui ja coloca em dataframe direto\u001b[0m\u001b[0;34m\u001b[0m\u001b[0;34m\u001b[0m\u001b[0m\n\u001b[0m\u001b[1;32m      5\u001b[0m \u001b[0;34m\u001b[0m\u001b[0m\n\u001b[1;32m      6\u001b[0m \u001b[0;31m#[output if condition else output for l in list]\u001b[0m\u001b[0;34m\u001b[0m\u001b[0;34m\u001b[0m\u001b[0;34m\u001b[0m\u001b[0m\n",
            "\u001b[0;31mNameError\u001b[0m: name 'pd' is not defined"
          ]
        }
      ]
    },
    {
      "cell_type": "code",
      "metadata": {
        "id": "KeySpbyYUYmm"
      },
      "source": [
        "# No exemplo anterior, só fizemos para a coluna \"device\", mas identificamos que \"geoNetwork\",\n",
        "# \"totals\" e \"trafficSource\" são do tipo chave:valor também\n",
        "# Criamos um dicionário que armazena essas colunas para que possamos fazer um loop que \n",
        "# percorra esse dicionários, criando automaticamente todas as colunas de cada chave.\n",
        "dicionarios = [\"device\",\"geoNetwork\",\"totals\",\"trafficSource\"]\n",
        "\n",
        "for coluna in dicionarios:\n",
        "  df = df.join(pd.DataFrame([json.loads(linha) for linha in df[coluna]])) # junta as colunas de df com\n",
        "  # as colunas transformadas por pd.DataFrame([json.loads(linha) for linha in df[coluna]])\n",
        "  # df[coluna] identifica a coluna de df a ser localizada e transformada"
      ],
      "execution_count": null,
      "outputs": []
    },
    {
      "cell_type": "code",
      "metadata": {
        "id": "wRi8rwbfXljb",
        "colab": {
          "base_uri": "https://localhost:8080/",
          "height": 479
        },
        "outputId": "507adf5c-7345-403d-e673-46eb74d8c204"
      },
      "source": [
        "# verifica o novo formato\n",
        "df.head()"
      ],
      "execution_count": null,
      "outputs": [
        {
          "output_type": "execute_result",
          "data": {
            "text/html": [
              "<div>\n",
              "<style scoped>\n",
              "    .dataframe tbody tr th:only-of-type {\n",
              "        vertical-align: middle;\n",
              "    }\n",
              "\n",
              "    .dataframe tbody tr th {\n",
              "        vertical-align: top;\n",
              "    }\n",
              "\n",
              "    .dataframe thead th {\n",
              "        text-align: right;\n",
              "    }\n",
              "</style>\n",
              "<table border=\"1\" class=\"dataframe\">\n",
              "  <thead>\n",
              "    <tr style=\"text-align: right;\">\n",
              "      <th></th>\n",
              "      <th>channelGrouping</th>\n",
              "      <th>date</th>\n",
              "      <th>device</th>\n",
              "      <th>fullVisitorId</th>\n",
              "      <th>geoNetwork</th>\n",
              "      <th>sessionId</th>\n",
              "      <th>socialEngagementType</th>\n",
              "      <th>totals</th>\n",
              "      <th>trafficSource</th>\n",
              "      <th>visitId</th>\n",
              "      <th>visitNumber</th>\n",
              "      <th>visitStartTime</th>\n",
              "      <th>browser</th>\n",
              "      <th>browserVersion</th>\n",
              "      <th>browserSize</th>\n",
              "      <th>operatingSystem</th>\n",
              "      <th>operatingSystemVersion</th>\n",
              "      <th>isMobile</th>\n",
              "      <th>mobileDeviceBranding</th>\n",
              "      <th>mobileDeviceModel</th>\n",
              "      <th>mobileInputSelector</th>\n",
              "      <th>mobileDeviceInfo</th>\n",
              "      <th>mobileDeviceMarketingName</th>\n",
              "      <th>flashVersion</th>\n",
              "      <th>language</th>\n",
              "      <th>screenColors</th>\n",
              "      <th>screenResolution</th>\n",
              "      <th>deviceCategory</th>\n",
              "      <th>continent</th>\n",
              "      <th>subContinent</th>\n",
              "      <th>country</th>\n",
              "      <th>region</th>\n",
              "      <th>metro</th>\n",
              "      <th>city</th>\n",
              "      <th>cityId</th>\n",
              "      <th>networkDomain</th>\n",
              "      <th>latitude</th>\n",
              "      <th>longitude</th>\n",
              "      <th>networkLocation</th>\n",
              "      <th>visits</th>\n",
              "      <th>hits</th>\n",
              "      <th>pageviews</th>\n",
              "      <th>bounces</th>\n",
              "      <th>newVisits</th>\n",
              "      <th>transactionRevenue</th>\n",
              "      <th>campaign</th>\n",
              "      <th>source</th>\n",
              "      <th>medium</th>\n",
              "      <th>keyword</th>\n",
              "      <th>adwordsClickInfo</th>\n",
              "      <th>isTrueDirect</th>\n",
              "      <th>referralPath</th>\n",
              "      <th>adContent</th>\n",
              "      <th>campaignCode</th>\n",
              "    </tr>\n",
              "  </thead>\n",
              "  <tbody>\n",
              "    <tr>\n",
              "      <th>0</th>\n",
              "      <td>Organic Search</td>\n",
              "      <td>20160902</td>\n",
              "      <td>{\"browser\": \"Chrome\", \"browserVersion\": \"not a...</td>\n",
              "      <td>9674781571160116268</td>\n",
              "      <td>{\"continent\": \"Asia\", \"subContinent\": \"Southea...</td>\n",
              "      <td>9674781571160116268_1472804607</td>\n",
              "      <td>Not Socially Engaged</td>\n",
              "      <td>{\"visits\": \"1\", \"hits\": \"1\", \"pageviews\": \"1\",...</td>\n",
              "      <td>{\"campaign\": \"(not set)\", \"source\": \"google\", ...</td>\n",
              "      <td>1472804607</td>\n",
              "      <td>1</td>\n",
              "      <td>1472804607</td>\n",
              "      <td>Chrome</td>\n",
              "      <td>not available in demo dataset</td>\n",
              "      <td>not available in demo dataset</td>\n",
              "      <td>Windows</td>\n",
              "      <td>not available in demo dataset</td>\n",
              "      <td>False</td>\n",
              "      <td>not available in demo dataset</td>\n",
              "      <td>not available in demo dataset</td>\n",
              "      <td>not available in demo dataset</td>\n",
              "      <td>not available in demo dataset</td>\n",
              "      <td>not available in demo dataset</td>\n",
              "      <td>not available in demo dataset</td>\n",
              "      <td>not available in demo dataset</td>\n",
              "      <td>not available in demo dataset</td>\n",
              "      <td>not available in demo dataset</td>\n",
              "      <td>desktop</td>\n",
              "      <td>Asia</td>\n",
              "      <td>Southeast Asia</td>\n",
              "      <td>Singapore</td>\n",
              "      <td>(not set)</td>\n",
              "      <td>(not set)</td>\n",
              "      <td>Singapore</td>\n",
              "      <td>not available in demo dataset</td>\n",
              "      <td>unknown.unknown</td>\n",
              "      <td>not available in demo dataset</td>\n",
              "      <td>not available in demo dataset</td>\n",
              "      <td>not available in demo dataset</td>\n",
              "      <td>1</td>\n",
              "      <td>1</td>\n",
              "      <td>1</td>\n",
              "      <td>1</td>\n",
              "      <td>1</td>\n",
              "      <td>NaN</td>\n",
              "      <td>(not set)</td>\n",
              "      <td>google</td>\n",
              "      <td>organic</td>\n",
              "      <td>(not provided)</td>\n",
              "      <td>{'criteriaParameters': 'not available in demo ...</td>\n",
              "      <td>NaN</td>\n",
              "      <td>NaN</td>\n",
              "      <td>NaN</td>\n",
              "      <td>NaN</td>\n",
              "    </tr>\n",
              "    <tr>\n",
              "      <th>1</th>\n",
              "      <td>Organic Search</td>\n",
              "      <td>20160902</td>\n",
              "      <td>{\"browser\": \"Chrome\", \"browserVersion\": \"not a...</td>\n",
              "      <td>8590648239310839049</td>\n",
              "      <td>{\"continent\": \"Europe\", \"subContinent\": \"Easte...</td>\n",
              "      <td>8590648239310839049_1472835928</td>\n",
              "      <td>Not Socially Engaged</td>\n",
              "      <td>{\"visits\": \"1\", \"hits\": \"1\", \"pageviews\": \"1\",...</td>\n",
              "      <td>{\"campaign\": \"(not set)\", \"source\": \"google\", ...</td>\n",
              "      <td>1472835928</td>\n",
              "      <td>1</td>\n",
              "      <td>1472835928</td>\n",
              "      <td>Chrome</td>\n",
              "      <td>not available in demo dataset</td>\n",
              "      <td>not available in demo dataset</td>\n",
              "      <td>Macintosh</td>\n",
              "      <td>not available in demo dataset</td>\n",
              "      <td>False</td>\n",
              "      <td>not available in demo dataset</td>\n",
              "      <td>not available in demo dataset</td>\n",
              "      <td>not available in demo dataset</td>\n",
              "      <td>not available in demo dataset</td>\n",
              "      <td>not available in demo dataset</td>\n",
              "      <td>not available in demo dataset</td>\n",
              "      <td>not available in demo dataset</td>\n",
              "      <td>not available in demo dataset</td>\n",
              "      <td>not available in demo dataset</td>\n",
              "      <td>desktop</td>\n",
              "      <td>Europe</td>\n",
              "      <td>Eastern Europe</td>\n",
              "      <td>Poland</td>\n",
              "      <td>not available in demo dataset</td>\n",
              "      <td>not available in demo dataset</td>\n",
              "      <td>not available in demo dataset</td>\n",
              "      <td>not available in demo dataset</td>\n",
              "      <td>tpnet.pl</td>\n",
              "      <td>not available in demo dataset</td>\n",
              "      <td>not available in demo dataset</td>\n",
              "      <td>not available in demo dataset</td>\n",
              "      <td>1</td>\n",
              "      <td>1</td>\n",
              "      <td>1</td>\n",
              "      <td>1</td>\n",
              "      <td>1</td>\n",
              "      <td>NaN</td>\n",
              "      <td>(not set)</td>\n",
              "      <td>google</td>\n",
              "      <td>organic</td>\n",
              "      <td>(not provided)</td>\n",
              "      <td>{'criteriaParameters': 'not available in demo ...</td>\n",
              "      <td>NaN</td>\n",
              "      <td>NaN</td>\n",
              "      <td>NaN</td>\n",
              "      <td>NaN</td>\n",
              "    </tr>\n",
              "    <tr>\n",
              "      <th>2</th>\n",
              "      <td>Affiliates</td>\n",
              "      <td>20160902</td>\n",
              "      <td>{\"browser\": \"Chrome\", \"browserVersion\": \"not a...</td>\n",
              "      <td>9772828344252850532</td>\n",
              "      <td>{\"continent\": \"Americas\", \"subContinent\": \"Sou...</td>\n",
              "      <td>9772828344252850532_1472856802</td>\n",
              "      <td>Not Socially Engaged</td>\n",
              "      <td>{\"visits\": \"1\", \"hits\": \"1\", \"pageviews\": \"1\",...</td>\n",
              "      <td>{\"campaign\": \"Data Share Promo\", \"source\": \"Pa...</td>\n",
              "      <td>1472856802</td>\n",
              "      <td>1</td>\n",
              "      <td>1472856802</td>\n",
              "      <td>Chrome</td>\n",
              "      <td>not available in demo dataset</td>\n",
              "      <td>not available in demo dataset</td>\n",
              "      <td>Macintosh</td>\n",
              "      <td>not available in demo dataset</td>\n",
              "      <td>False</td>\n",
              "      <td>not available in demo dataset</td>\n",
              "      <td>not available in demo dataset</td>\n",
              "      <td>not available in demo dataset</td>\n",
              "      <td>not available in demo dataset</td>\n",
              "      <td>not available in demo dataset</td>\n",
              "      <td>not available in demo dataset</td>\n",
              "      <td>not available in demo dataset</td>\n",
              "      <td>not available in demo dataset</td>\n",
              "      <td>not available in demo dataset</td>\n",
              "      <td>desktop</td>\n",
              "      <td>Americas</td>\n",
              "      <td>South America</td>\n",
              "      <td>Argentina</td>\n",
              "      <td>Buenos Aires</td>\n",
              "      <td>(not set)</td>\n",
              "      <td>Buenos Aires</td>\n",
              "      <td>not available in demo dataset</td>\n",
              "      <td>phonevision.com.ar</td>\n",
              "      <td>not available in demo dataset</td>\n",
              "      <td>not available in demo dataset</td>\n",
              "      <td>not available in demo dataset</td>\n",
              "      <td>1</td>\n",
              "      <td>1</td>\n",
              "      <td>1</td>\n",
              "      <td>1</td>\n",
              "      <td>1</td>\n",
              "      <td>NaN</td>\n",
              "      <td>Data Share Promo</td>\n",
              "      <td>Partners</td>\n",
              "      <td>affiliate</td>\n",
              "      <td>NaN</td>\n",
              "      <td>{'criteriaParameters': 'not available in demo ...</td>\n",
              "      <td>NaN</td>\n",
              "      <td>NaN</td>\n",
              "      <td>NaN</td>\n",
              "      <td>NaN</td>\n",
              "    </tr>\n",
              "    <tr>\n",
              "      <th>3</th>\n",
              "      <td>Organic Search</td>\n",
              "      <td>20160902</td>\n",
              "      <td>{\"browser\": \"Safari\", \"browserVersion\": \"not a...</td>\n",
              "      <td>1350700416054916432</td>\n",
              "      <td>{\"continent\": \"Americas\", \"subContinent\": \"Nor...</td>\n",
              "      <td>1350700416054916432_1472879649</td>\n",
              "      <td>Not Socially Engaged</td>\n",
              "      <td>{\"visits\": \"1\", \"hits\": \"1\", \"pageviews\": \"1\",...</td>\n",
              "      <td>{\"campaign\": \"(not set)\", \"source\": \"google\", ...</td>\n",
              "      <td>1472879649</td>\n",
              "      <td>2</td>\n",
              "      <td>1472879649</td>\n",
              "      <td>Safari</td>\n",
              "      <td>not available in demo dataset</td>\n",
              "      <td>not available in demo dataset</td>\n",
              "      <td>iOS</td>\n",
              "      <td>not available in demo dataset</td>\n",
              "      <td>True</td>\n",
              "      <td>not available in demo dataset</td>\n",
              "      <td>not available in demo dataset</td>\n",
              "      <td>not available in demo dataset</td>\n",
              "      <td>not available in demo dataset</td>\n",
              "      <td>not available in demo dataset</td>\n",
              "      <td>not available in demo dataset</td>\n",
              "      <td>not available in demo dataset</td>\n",
              "      <td>not available in demo dataset</td>\n",
              "      <td>not available in demo dataset</td>\n",
              "      <td>mobile</td>\n",
              "      <td>Americas</td>\n",
              "      <td>Northern America</td>\n",
              "      <td>United States</td>\n",
              "      <td>not available in demo dataset</td>\n",
              "      <td>not available in demo dataset</td>\n",
              "      <td>not available in demo dataset</td>\n",
              "      <td>not available in demo dataset</td>\n",
              "      <td>comcast.net</td>\n",
              "      <td>not available in demo dataset</td>\n",
              "      <td>not available in demo dataset</td>\n",
              "      <td>not available in demo dataset</td>\n",
              "      <td>1</td>\n",
              "      <td>1</td>\n",
              "      <td>1</td>\n",
              "      <td>1</td>\n",
              "      <td>NaN</td>\n",
              "      <td>NaN</td>\n",
              "      <td>(not set)</td>\n",
              "      <td>google</td>\n",
              "      <td>organic</td>\n",
              "      <td>(not provided)</td>\n",
              "      <td>{'criteriaParameters': 'not available in demo ...</td>\n",
              "      <td>True</td>\n",
              "      <td>NaN</td>\n",
              "      <td>NaN</td>\n",
              "      <td>NaN</td>\n",
              "    </tr>\n",
              "    <tr>\n",
              "      <th>4</th>\n",
              "      <td>Organic Search</td>\n",
              "      <td>20160902</td>\n",
              "      <td>{\"browser\": \"Safari\", \"browserVersion\": \"not a...</td>\n",
              "      <td>1350700416054916432</td>\n",
              "      <td>{\"continent\": \"Americas\", \"subContinent\": \"Nor...</td>\n",
              "      <td>1350700416054916432_1472829671</td>\n",
              "      <td>Not Socially Engaged</td>\n",
              "      <td>{\"visits\": \"1\", \"hits\": \"5\", \"pageviews\": \"4\",...</td>\n",
              "      <td>{\"campaign\": \"(not set)\", \"source\": \"google\", ...</td>\n",
              "      <td>1472829671</td>\n",
              "      <td>1</td>\n",
              "      <td>1472829671</td>\n",
              "      <td>Safari</td>\n",
              "      <td>not available in demo dataset</td>\n",
              "      <td>not available in demo dataset</td>\n",
              "      <td>iOS</td>\n",
              "      <td>not available in demo dataset</td>\n",
              "      <td>True</td>\n",
              "      <td>not available in demo dataset</td>\n",
              "      <td>not available in demo dataset</td>\n",
              "      <td>not available in demo dataset</td>\n",
              "      <td>not available in demo dataset</td>\n",
              "      <td>not available in demo dataset</td>\n",
              "      <td>not available in demo dataset</td>\n",
              "      <td>not available in demo dataset</td>\n",
              "      <td>not available in demo dataset</td>\n",
              "      <td>not available in demo dataset</td>\n",
              "      <td>mobile</td>\n",
              "      <td>Americas</td>\n",
              "      <td>Northern America</td>\n",
              "      <td>United States</td>\n",
              "      <td>not available in demo dataset</td>\n",
              "      <td>not available in demo dataset</td>\n",
              "      <td>not available in demo dataset</td>\n",
              "      <td>not available in demo dataset</td>\n",
              "      <td>att.net</td>\n",
              "      <td>not available in demo dataset</td>\n",
              "      <td>not available in demo dataset</td>\n",
              "      <td>not available in demo dataset</td>\n",
              "      <td>1</td>\n",
              "      <td>5</td>\n",
              "      <td>4</td>\n",
              "      <td>NaN</td>\n",
              "      <td>1</td>\n",
              "      <td>NaN</td>\n",
              "      <td>(not set)</td>\n",
              "      <td>google</td>\n",
              "      <td>organic</td>\n",
              "      <td>(not provided)</td>\n",
              "      <td>{'criteriaParameters': 'not available in demo ...</td>\n",
              "      <td>NaN</td>\n",
              "      <td>NaN</td>\n",
              "      <td>NaN</td>\n",
              "      <td>NaN</td>\n",
              "    </tr>\n",
              "  </tbody>\n",
              "</table>\n",
              "</div>"
            ],
            "text/plain": [
              "  channelGrouping      date  ... adContent campaignCode\n",
              "0  Organic Search  20160902  ...       NaN          NaN\n",
              "1  Organic Search  20160902  ...       NaN          NaN\n",
              "2      Affiliates  20160902  ...       NaN          NaN\n",
              "3  Organic Search  20160902  ...       NaN          NaN\n",
              "4  Organic Search  20160902  ...       NaN          NaN\n",
              "\n",
              "[5 rows x 54 columns]"
            ]
          },
          "metadata": {
            "tags": []
          },
          "execution_count": 93
        }
      ]
    },
    {
      "cell_type": "code",
      "metadata": {
        "id": "T8XyjLdyXn6k",
        "colab": {
          "base_uri": "https://localhost:8080/"
        },
        "outputId": "3e7c356e-ebff-47cc-8343-2848e7564a66"
      },
      "source": [
        "# verifica o novo numero de linhas e colunas\n",
        "df.shape"
      ],
      "execution_count": null,
      "outputs": [
        {
          "output_type": "execute_result",
          "data": {
            "text/plain": [
              "(12283, 54)"
            ]
          },
          "metadata": {
            "tags": []
          },
          "execution_count": 94
        }
      ]
    },
    {
      "cell_type": "code",
      "metadata": {
        "id": "f20d4x1SXp33"
      },
      "source": [
        "# As 4 colunas que foram transformadas ainda estão em df. Como ja retiramos todas as informações \n",
        "# presentes nelas, podemos retirá-las de df. A função que faz isso é .drop(o que vai ser retirados, linha = 0 ou \n",
        "# coluna = 1, inplace = True se vai retirar na propria df ou inplace = false se vai atribuir df em uma nova variavel)\n",
        "df.drop(dicionarios, axis=1,inplace=True)"
      ],
      "execution_count": null,
      "outputs": []
    },
    {
      "cell_type": "code",
      "metadata": {
        "id": "exCfs84NY5Dk",
        "colab": {
          "base_uri": "https://localhost:8080/",
          "height": 479
        },
        "outputId": "c9ff5060-3070-44b4-abec-fb9364ca29c6"
      },
      "source": [
        "# verifica o novo formato\n",
        "df.head()\n"
      ],
      "execution_count": null,
      "outputs": [
        {
          "output_type": "execute_result",
          "data": {
            "text/html": [
              "<div>\n",
              "<style scoped>\n",
              "    .dataframe tbody tr th:only-of-type {\n",
              "        vertical-align: middle;\n",
              "    }\n",
              "\n",
              "    .dataframe tbody tr th {\n",
              "        vertical-align: top;\n",
              "    }\n",
              "\n",
              "    .dataframe thead th {\n",
              "        text-align: right;\n",
              "    }\n",
              "</style>\n",
              "<table border=\"1\" class=\"dataframe\">\n",
              "  <thead>\n",
              "    <tr style=\"text-align: right;\">\n",
              "      <th></th>\n",
              "      <th>channelGrouping</th>\n",
              "      <th>date</th>\n",
              "      <th>fullVisitorId</th>\n",
              "      <th>sessionId</th>\n",
              "      <th>socialEngagementType</th>\n",
              "      <th>visitId</th>\n",
              "      <th>visitNumber</th>\n",
              "      <th>visitStartTime</th>\n",
              "      <th>browser</th>\n",
              "      <th>browserVersion</th>\n",
              "      <th>browserSize</th>\n",
              "      <th>operatingSystem</th>\n",
              "      <th>operatingSystemVersion</th>\n",
              "      <th>isMobile</th>\n",
              "      <th>mobileDeviceBranding</th>\n",
              "      <th>mobileDeviceModel</th>\n",
              "      <th>mobileInputSelector</th>\n",
              "      <th>mobileDeviceInfo</th>\n",
              "      <th>mobileDeviceMarketingName</th>\n",
              "      <th>flashVersion</th>\n",
              "      <th>language</th>\n",
              "      <th>screenColors</th>\n",
              "      <th>screenResolution</th>\n",
              "      <th>deviceCategory</th>\n",
              "      <th>continent</th>\n",
              "      <th>subContinent</th>\n",
              "      <th>country</th>\n",
              "      <th>region</th>\n",
              "      <th>metro</th>\n",
              "      <th>city</th>\n",
              "      <th>cityId</th>\n",
              "      <th>networkDomain</th>\n",
              "      <th>latitude</th>\n",
              "      <th>longitude</th>\n",
              "      <th>networkLocation</th>\n",
              "      <th>visits</th>\n",
              "      <th>hits</th>\n",
              "      <th>pageviews</th>\n",
              "      <th>bounces</th>\n",
              "      <th>newVisits</th>\n",
              "      <th>transactionRevenue</th>\n",
              "      <th>campaign</th>\n",
              "      <th>source</th>\n",
              "      <th>medium</th>\n",
              "      <th>keyword</th>\n",
              "      <th>adwordsClickInfo</th>\n",
              "      <th>isTrueDirect</th>\n",
              "      <th>referralPath</th>\n",
              "      <th>adContent</th>\n",
              "      <th>campaignCode</th>\n",
              "    </tr>\n",
              "  </thead>\n",
              "  <tbody>\n",
              "    <tr>\n",
              "      <th>0</th>\n",
              "      <td>Organic Search</td>\n",
              "      <td>20160902</td>\n",
              "      <td>9674781571160116268</td>\n",
              "      <td>9674781571160116268_1472804607</td>\n",
              "      <td>Not Socially Engaged</td>\n",
              "      <td>1472804607</td>\n",
              "      <td>1</td>\n",
              "      <td>1472804607</td>\n",
              "      <td>Chrome</td>\n",
              "      <td>not available in demo dataset</td>\n",
              "      <td>not available in demo dataset</td>\n",
              "      <td>Windows</td>\n",
              "      <td>not available in demo dataset</td>\n",
              "      <td>False</td>\n",
              "      <td>not available in demo dataset</td>\n",
              "      <td>not available in demo dataset</td>\n",
              "      <td>not available in demo dataset</td>\n",
              "      <td>not available in demo dataset</td>\n",
              "      <td>not available in demo dataset</td>\n",
              "      <td>not available in demo dataset</td>\n",
              "      <td>not available in demo dataset</td>\n",
              "      <td>not available in demo dataset</td>\n",
              "      <td>not available in demo dataset</td>\n",
              "      <td>desktop</td>\n",
              "      <td>Asia</td>\n",
              "      <td>Southeast Asia</td>\n",
              "      <td>Singapore</td>\n",
              "      <td>(not set)</td>\n",
              "      <td>(not set)</td>\n",
              "      <td>Singapore</td>\n",
              "      <td>not available in demo dataset</td>\n",
              "      <td>unknown.unknown</td>\n",
              "      <td>not available in demo dataset</td>\n",
              "      <td>not available in demo dataset</td>\n",
              "      <td>not available in demo dataset</td>\n",
              "      <td>1</td>\n",
              "      <td>1</td>\n",
              "      <td>1</td>\n",
              "      <td>1</td>\n",
              "      <td>1</td>\n",
              "      <td>NaN</td>\n",
              "      <td>(not set)</td>\n",
              "      <td>google</td>\n",
              "      <td>organic</td>\n",
              "      <td>(not provided)</td>\n",
              "      <td>{'criteriaParameters': 'not available in demo ...</td>\n",
              "      <td>NaN</td>\n",
              "      <td>NaN</td>\n",
              "      <td>NaN</td>\n",
              "      <td>NaN</td>\n",
              "    </tr>\n",
              "    <tr>\n",
              "      <th>1</th>\n",
              "      <td>Organic Search</td>\n",
              "      <td>20160902</td>\n",
              "      <td>8590648239310839049</td>\n",
              "      <td>8590648239310839049_1472835928</td>\n",
              "      <td>Not Socially Engaged</td>\n",
              "      <td>1472835928</td>\n",
              "      <td>1</td>\n",
              "      <td>1472835928</td>\n",
              "      <td>Chrome</td>\n",
              "      <td>not available in demo dataset</td>\n",
              "      <td>not available in demo dataset</td>\n",
              "      <td>Macintosh</td>\n",
              "      <td>not available in demo dataset</td>\n",
              "      <td>False</td>\n",
              "      <td>not available in demo dataset</td>\n",
              "      <td>not available in demo dataset</td>\n",
              "      <td>not available in demo dataset</td>\n",
              "      <td>not available in demo dataset</td>\n",
              "      <td>not available in demo dataset</td>\n",
              "      <td>not available in demo dataset</td>\n",
              "      <td>not available in demo dataset</td>\n",
              "      <td>not available in demo dataset</td>\n",
              "      <td>not available in demo dataset</td>\n",
              "      <td>desktop</td>\n",
              "      <td>Europe</td>\n",
              "      <td>Eastern Europe</td>\n",
              "      <td>Poland</td>\n",
              "      <td>not available in demo dataset</td>\n",
              "      <td>not available in demo dataset</td>\n",
              "      <td>not available in demo dataset</td>\n",
              "      <td>not available in demo dataset</td>\n",
              "      <td>tpnet.pl</td>\n",
              "      <td>not available in demo dataset</td>\n",
              "      <td>not available in demo dataset</td>\n",
              "      <td>not available in demo dataset</td>\n",
              "      <td>1</td>\n",
              "      <td>1</td>\n",
              "      <td>1</td>\n",
              "      <td>1</td>\n",
              "      <td>1</td>\n",
              "      <td>NaN</td>\n",
              "      <td>(not set)</td>\n",
              "      <td>google</td>\n",
              "      <td>organic</td>\n",
              "      <td>(not provided)</td>\n",
              "      <td>{'criteriaParameters': 'not available in demo ...</td>\n",
              "      <td>NaN</td>\n",
              "      <td>NaN</td>\n",
              "      <td>NaN</td>\n",
              "      <td>NaN</td>\n",
              "    </tr>\n",
              "    <tr>\n",
              "      <th>2</th>\n",
              "      <td>Affiliates</td>\n",
              "      <td>20160902</td>\n",
              "      <td>9772828344252850532</td>\n",
              "      <td>9772828344252850532_1472856802</td>\n",
              "      <td>Not Socially Engaged</td>\n",
              "      <td>1472856802</td>\n",
              "      <td>1</td>\n",
              "      <td>1472856802</td>\n",
              "      <td>Chrome</td>\n",
              "      <td>not available in demo dataset</td>\n",
              "      <td>not available in demo dataset</td>\n",
              "      <td>Macintosh</td>\n",
              "      <td>not available in demo dataset</td>\n",
              "      <td>False</td>\n",
              "      <td>not available in demo dataset</td>\n",
              "      <td>not available in demo dataset</td>\n",
              "      <td>not available in demo dataset</td>\n",
              "      <td>not available in demo dataset</td>\n",
              "      <td>not available in demo dataset</td>\n",
              "      <td>not available in demo dataset</td>\n",
              "      <td>not available in demo dataset</td>\n",
              "      <td>not available in demo dataset</td>\n",
              "      <td>not available in demo dataset</td>\n",
              "      <td>desktop</td>\n",
              "      <td>Americas</td>\n",
              "      <td>South America</td>\n",
              "      <td>Argentina</td>\n",
              "      <td>Buenos Aires</td>\n",
              "      <td>(not set)</td>\n",
              "      <td>Buenos Aires</td>\n",
              "      <td>not available in demo dataset</td>\n",
              "      <td>phonevision.com.ar</td>\n",
              "      <td>not available in demo dataset</td>\n",
              "      <td>not available in demo dataset</td>\n",
              "      <td>not available in demo dataset</td>\n",
              "      <td>1</td>\n",
              "      <td>1</td>\n",
              "      <td>1</td>\n",
              "      <td>1</td>\n",
              "      <td>1</td>\n",
              "      <td>NaN</td>\n",
              "      <td>Data Share Promo</td>\n",
              "      <td>Partners</td>\n",
              "      <td>affiliate</td>\n",
              "      <td>NaN</td>\n",
              "      <td>{'criteriaParameters': 'not available in demo ...</td>\n",
              "      <td>NaN</td>\n",
              "      <td>NaN</td>\n",
              "      <td>NaN</td>\n",
              "      <td>NaN</td>\n",
              "    </tr>\n",
              "    <tr>\n",
              "      <th>3</th>\n",
              "      <td>Organic Search</td>\n",
              "      <td>20160902</td>\n",
              "      <td>1350700416054916432</td>\n",
              "      <td>1350700416054916432_1472879649</td>\n",
              "      <td>Not Socially Engaged</td>\n",
              "      <td>1472879649</td>\n",
              "      <td>2</td>\n",
              "      <td>1472879649</td>\n",
              "      <td>Safari</td>\n",
              "      <td>not available in demo dataset</td>\n",
              "      <td>not available in demo dataset</td>\n",
              "      <td>iOS</td>\n",
              "      <td>not available in demo dataset</td>\n",
              "      <td>True</td>\n",
              "      <td>not available in demo dataset</td>\n",
              "      <td>not available in demo dataset</td>\n",
              "      <td>not available in demo dataset</td>\n",
              "      <td>not available in demo dataset</td>\n",
              "      <td>not available in demo dataset</td>\n",
              "      <td>not available in demo dataset</td>\n",
              "      <td>not available in demo dataset</td>\n",
              "      <td>not available in demo dataset</td>\n",
              "      <td>not available in demo dataset</td>\n",
              "      <td>mobile</td>\n",
              "      <td>Americas</td>\n",
              "      <td>Northern America</td>\n",
              "      <td>United States</td>\n",
              "      <td>not available in demo dataset</td>\n",
              "      <td>not available in demo dataset</td>\n",
              "      <td>not available in demo dataset</td>\n",
              "      <td>not available in demo dataset</td>\n",
              "      <td>comcast.net</td>\n",
              "      <td>not available in demo dataset</td>\n",
              "      <td>not available in demo dataset</td>\n",
              "      <td>not available in demo dataset</td>\n",
              "      <td>1</td>\n",
              "      <td>1</td>\n",
              "      <td>1</td>\n",
              "      <td>1</td>\n",
              "      <td>NaN</td>\n",
              "      <td>NaN</td>\n",
              "      <td>(not set)</td>\n",
              "      <td>google</td>\n",
              "      <td>organic</td>\n",
              "      <td>(not provided)</td>\n",
              "      <td>{'criteriaParameters': 'not available in demo ...</td>\n",
              "      <td>True</td>\n",
              "      <td>NaN</td>\n",
              "      <td>NaN</td>\n",
              "      <td>NaN</td>\n",
              "    </tr>\n",
              "    <tr>\n",
              "      <th>4</th>\n",
              "      <td>Organic Search</td>\n",
              "      <td>20160902</td>\n",
              "      <td>1350700416054916432</td>\n",
              "      <td>1350700416054916432_1472829671</td>\n",
              "      <td>Not Socially Engaged</td>\n",
              "      <td>1472829671</td>\n",
              "      <td>1</td>\n",
              "      <td>1472829671</td>\n",
              "      <td>Safari</td>\n",
              "      <td>not available in demo dataset</td>\n",
              "      <td>not available in demo dataset</td>\n",
              "      <td>iOS</td>\n",
              "      <td>not available in demo dataset</td>\n",
              "      <td>True</td>\n",
              "      <td>not available in demo dataset</td>\n",
              "      <td>not available in demo dataset</td>\n",
              "      <td>not available in demo dataset</td>\n",
              "      <td>not available in demo dataset</td>\n",
              "      <td>not available in demo dataset</td>\n",
              "      <td>not available in demo dataset</td>\n",
              "      <td>not available in demo dataset</td>\n",
              "      <td>not available in demo dataset</td>\n",
              "      <td>not available in demo dataset</td>\n",
              "      <td>mobile</td>\n",
              "      <td>Americas</td>\n",
              "      <td>Northern America</td>\n",
              "      <td>United States</td>\n",
              "      <td>not available in demo dataset</td>\n",
              "      <td>not available in demo dataset</td>\n",
              "      <td>not available in demo dataset</td>\n",
              "      <td>not available in demo dataset</td>\n",
              "      <td>att.net</td>\n",
              "      <td>not available in demo dataset</td>\n",
              "      <td>not available in demo dataset</td>\n",
              "      <td>not available in demo dataset</td>\n",
              "      <td>1</td>\n",
              "      <td>5</td>\n",
              "      <td>4</td>\n",
              "      <td>NaN</td>\n",
              "      <td>1</td>\n",
              "      <td>NaN</td>\n",
              "      <td>(not set)</td>\n",
              "      <td>google</td>\n",
              "      <td>organic</td>\n",
              "      <td>(not provided)</td>\n",
              "      <td>{'criteriaParameters': 'not available in demo ...</td>\n",
              "      <td>NaN</td>\n",
              "      <td>NaN</td>\n",
              "      <td>NaN</td>\n",
              "      <td>NaN</td>\n",
              "    </tr>\n",
              "  </tbody>\n",
              "</table>\n",
              "</div>"
            ],
            "text/plain": [
              "  channelGrouping      date  ... adContent campaignCode\n",
              "0  Organic Search  20160902  ...       NaN          NaN\n",
              "1  Organic Search  20160902  ...       NaN          NaN\n",
              "2      Affiliates  20160902  ...       NaN          NaN\n",
              "3  Organic Search  20160902  ...       NaN          NaN\n",
              "4  Organic Search  20160902  ...       NaN          NaN\n",
              "\n",
              "[5 rows x 50 columns]"
            ]
          },
          "metadata": {
            "tags": []
          },
          "execution_count": 96
        }
      ]
    },
    {
      "cell_type": "code",
      "metadata": {
        "id": "fzrSlNJSY6Ck",
        "colab": {
          "base_uri": "https://localhost:8080/"
        },
        "outputId": "673b0055-561e-4575-b415-675f83cecada"
      },
      "source": [
        "# verifica o novo numero de linhas e colunas\n",
        "df.shape"
      ],
      "execution_count": null,
      "outputs": [
        {
          "output_type": "execute_result",
          "data": {
            "text/plain": [
              "(12283, 50)"
            ]
          },
          "metadata": {
            "tags": []
          },
          "execution_count": 97
        }
      ]
    },
    {
      "cell_type": "code",
      "metadata": {
        "id": "iM6W9PCrCGbG",
        "colab": {
          "base_uri": "https://localhost:8080/"
        },
        "outputId": "ed190956-5426-407e-c59a-71abb0f92b06"
      },
      "source": [
        "len(df.channelGrouping.unique())"
      ],
      "execution_count": null,
      "outputs": [
        {
          "output_type": "execute_result",
          "data": {
            "text/plain": [
              "8"
            ]
          },
          "metadata": {
            "tags": []
          },
          "execution_count": 98
        }
      ]
    },
    {
      "cell_type": "code",
      "metadata": {
        "id": "Tnc5N5DuDb3b"
      },
      "source": [
        "df.drop(\"adwordsClickInfo\", axis = 1, inplace=True)"
      ],
      "execution_count": null,
      "outputs": []
    },
    {
      "cell_type": "code",
      "metadata": {
        "id": "HoMovHIvEPXt"
      },
      "source": [
        "# coluna_na vai receber as colunas que tem valor 1 e depois vamos utilizá-la \n",
        "# em .drop()\n",
        "coluna_na = []"
      ],
      "execution_count": null,
      "outputs": []
    },
    {
      "cell_type": "code",
      "metadata": {
        "id": "NfKYU4UVZapJ",
        "colab": {
          "base_uri": "https://localhost:8080/"
        },
        "outputId": "10cca62f-ac35-4b81-a2ed-b87de6379541"
      },
      "source": [
        "# o quão diferente são os dados de cada coluna?\n",
        "for column in df.columns:\n",
        "  print(column + \":\" + str(len(df[column].unique())))\n",
        "  if len(df[column].unique()) == 1:\n",
        "    coluna_na.append(column)"
      ],
      "execution_count": null,
      "outputs": [
        {
          "output_type": "stream",
          "text": [
            "channelGrouping:8\n",
            "date:366\n",
            "fullVisitorId:9997\n",
            "sessionId:12276\n",
            "socialEngagementType:1\n",
            "visitId:12272\n",
            "visitNumber:50\n",
            "visitStartTime:12279\n",
            "browser:22\n",
            "browserVersion:1\n",
            "browserSize:1\n",
            "operatingSystem:12\n",
            "operatingSystemVersion:1\n",
            "isMobile:2\n",
            "mobileDeviceBranding:1\n",
            "mobileDeviceModel:1\n",
            "mobileInputSelector:1\n",
            "mobileDeviceInfo:1\n",
            "mobileDeviceMarketingName:1\n",
            "flashVersion:1\n",
            "language:1\n",
            "screenColors:1\n",
            "screenResolution:1\n",
            "deviceCategory:3\n",
            "continent:6\n",
            "subContinent:22\n",
            "country:145\n",
            "region:212\n",
            "metro:53\n",
            "city:296\n",
            "cityId:1\n",
            "networkDomain:1747\n",
            "latitude:1\n",
            "longitude:1\n",
            "networkLocation:1\n",
            "visits:1\n",
            "hits:96\n",
            "pageviews:75\n",
            "bounces:2\n",
            "newVisits:2\n",
            "transactionRevenue:147\n",
            "campaign:7\n",
            "source:76\n",
            "medium:7\n",
            "keyword:129\n",
            "isTrueDirect:2\n",
            "referralPath:198\n",
            "adContent:16\n",
            "campaignCode:2\n"
          ],
          "name": "stdout"
        }
      ]
    },
    {
      "cell_type": "markdown",
      "metadata": {
        "id": "Z1Tq0UdaD3Yf"
      },
      "source": [
        "\n",
        "* Varias colunas tem valor 1, o que quer dizer que ela tem o mesmo  valor para todas as linhas, logo não hávariação que agregue no modelo. Devemos removelas."
      ]
    },
    {
      "cell_type": "code",
      "metadata": {
        "id": "Lb5_CrM0E7ns",
        "colab": {
          "base_uri": "https://localhost:8080/"
        },
        "outputId": "cf5fee13-449e-43d9-870e-39c926d95b43"
      },
      "source": [
        "coluna_na"
      ],
      "execution_count": null,
      "outputs": [
        {
          "output_type": "execute_result",
          "data": {
            "text/plain": [
              "['socialEngagementType',\n",
              " 'browserVersion',\n",
              " 'browserSize',\n",
              " 'operatingSystemVersion',\n",
              " 'mobileDeviceBranding',\n",
              " 'mobileDeviceModel',\n",
              " 'mobileInputSelector',\n",
              " 'mobileDeviceInfo',\n",
              " 'mobileDeviceMarketingName',\n",
              " 'flashVersion',\n",
              " 'language',\n",
              " 'screenColors',\n",
              " 'screenResolution',\n",
              " 'cityId',\n",
              " 'latitude',\n",
              " 'longitude',\n",
              " 'networkLocation',\n",
              " 'visits']"
            ]
          },
          "metadata": {
            "tags": []
          },
          "execution_count": 102
        }
      ]
    },
    {
      "cell_type": "code",
      "metadata": {
        "id": "IFCt2SGQBYbv",
        "colab": {
          "base_uri": "https://localhost:8080/",
          "height": 35
        },
        "outputId": "d64e4a47-ee0e-48e5-e396-e5fad13350dd"
      },
      "source": [
        "# aqui a coluna \"adwordsClickInfo\" deu erro porque ela é dict\n",
        "column"
      ],
      "execution_count": null,
      "outputs": [
        {
          "output_type": "execute_result",
          "data": {
            "application/vnd.google.colaboratory.intrinsic+json": {
              "type": "string"
            },
            "text/plain": [
              "'campaignCode'"
            ]
          },
          "metadata": {
            "tags": []
          },
          "execution_count": 103
        }
      ]
    },
    {
      "cell_type": "code",
      "metadata": {
        "id": "kKsfI0nWC-s0"
      },
      "source": [
        "#df[\"adwordsClickInfo\"][0]\n",
        "#{'criteriaParameters': 'not available in demo dataset'} não é importante, então dropamos ali em cima"
      ],
      "execution_count": null,
      "outputs": []
    },
    {
      "cell_type": "code",
      "metadata": {
        "id": "EPjcGhfxDLvD"
      },
      "source": [
        "# dropando as colunas que têm apenas um valor\n",
        "df.drop(coluna_na, axis=1, inplace=True)"
      ],
      "execution_count": null,
      "outputs": []
    },
    {
      "cell_type": "code",
      "metadata": {
        "id": "_XhAfZFYFldK",
        "colab": {
          "base_uri": "https://localhost:8080/"
        },
        "outputId": "8f0b5053-dcce-4e35-d706-4ede11e38486"
      },
      "source": [
        "df.shape"
      ],
      "execution_count": null,
      "outputs": [
        {
          "output_type": "execute_result",
          "data": {
            "text/plain": [
              "(12283, 31)"
            ]
          },
          "metadata": {
            "tags": []
          },
          "execution_count": 106
        }
      ]
    },
    {
      "cell_type": "markdown",
      "metadata": {
        "id": "5JhJIjyuGEzl"
      },
      "source": [
        "# Feature Engeneering\n",
        " Criaremos 4 variáveis quantitativas para tentar contar a história do usuário, qual foi a jornada dele no período de análise.\n",
        " * 1ª newVisits: Número total de usuários na sessão (para conveniência). Na primeira visita esse valor é 1, nas demais é zero. Ela vai mostrar o volume de primeiras visitas ;\n",
        " * 2ª pageViews: Número total de paginas que o usuário visualizou depois de iniciar uma sessão (página carregada ou atualizada);\n",
        " * 3ª bounces (Rejeição - Não gera nenhuma interação para o google): Uma visita de apenas uma request para o google analytics. O usuário abre uma única pagina do seu website e, em seguida, sai sem acionar outras solicitações ao servidor do Google Analytics. \n",
        " * 4ª hits: Volume de interação que o google recebeu do site (acompanhamento de página, acompanhamento de evento e comércio eletrônico)\n"
      ]
    },
    {
      "cell_type": "code",
      "metadata": {
        "id": "Fa70kIr_Fn3C",
        "colab": {
          "base_uri": "https://localhost:8080/"
        },
        "outputId": "0dea5016-9a60-4506-82c1-11dbe904dd1c"
      },
      "source": [
        "df.dtypes"
      ],
      "execution_count": null,
      "outputs": [
        {
          "output_type": "execute_result",
          "data": {
            "text/plain": [
              "channelGrouping       object\n",
              "date                  object\n",
              "fullVisitorId         object\n",
              "sessionId             object\n",
              "visitId               object\n",
              "visitNumber            int64\n",
              "visitStartTime         int64\n",
              "browser               object\n",
              "operatingSystem       object\n",
              "isMobile                bool\n",
              "deviceCategory        object\n",
              "continent             object\n",
              "subContinent          object\n",
              "country               object\n",
              "region                object\n",
              "metro                 object\n",
              "city                  object\n",
              "networkDomain         object\n",
              "hits                  object\n",
              "pageviews             object\n",
              "bounces               object\n",
              "newVisits             object\n",
              "transactionRevenue    object\n",
              "campaign              object\n",
              "source                object\n",
              "medium                object\n",
              "keyword               object\n",
              "isTrueDirect          object\n",
              "referralPath          object\n",
              "adContent             object\n",
              "campaignCode          object\n",
              "dtype: object"
            ]
          },
          "metadata": {
            "tags": []
          },
          "execution_count": 107
        }
      ]
    },
    {
      "cell_type": "code",
      "metadata": {
        "id": "m3e3NGoNL8rr"
      },
      "source": [
        "# Vamos transformar as variáveis quantivativas para tipo numérico.\n",
        "# criaremos uma lista que armazena essas variáveis para que um loop faça uma varredura\n",
        "# automática\n",
        "quant = [\"bounces\", \"hits\",\"newVisits\",\"pageviews\", \"transactionRevenue\"]"
      ],
      "execution_count": null,
      "outputs": []
    },
    {
      "cell_type": "code",
      "metadata": {
        "id": "raEB4P5mMqk7"
      },
      "source": [
        "# Convertendo\n",
        "for col in quant:\n",
        "  df[col] = pd.to_numeric(df[col])\n",
        "  #pd.to_numeric identifica qual tipo de dado fica melhor (float ou int)"
      ],
      "execution_count": null,
      "outputs": []
    },
    {
      "cell_type": "code",
      "metadata": {
        "id": "kDL9PJcpM7aD",
        "colab": {
          "base_uri": "https://localhost:8080/"
        },
        "outputId": "5166957b-c6bc-4289-f030-83d7ffa748d3"
      },
      "source": [
        "df.dtypes"
      ],
      "execution_count": null,
      "outputs": [
        {
          "output_type": "execute_result",
          "data": {
            "text/plain": [
              "channelGrouping        object\n",
              "date                   object\n",
              "fullVisitorId          object\n",
              "sessionId              object\n",
              "visitId                object\n",
              "visitNumber             int64\n",
              "visitStartTime          int64\n",
              "browser                object\n",
              "operatingSystem        object\n",
              "isMobile                 bool\n",
              "deviceCategory         object\n",
              "continent              object\n",
              "subContinent           object\n",
              "country                object\n",
              "region                 object\n",
              "metro                  object\n",
              "city                   object\n",
              "networkDomain          object\n",
              "hits                    int64\n",
              "pageviews               int64\n",
              "bounces               float64\n",
              "newVisits             float64\n",
              "transactionRevenue    float64\n",
              "campaign               object\n",
              "source                 object\n",
              "medium                 object\n",
              "keyword                object\n",
              "isTrueDirect           object\n",
              "referralPath           object\n",
              "adContent              object\n",
              "campaignCode           object\n",
              "dtype: object"
            ]
          },
          "metadata": {
            "tags": []
          },
          "execution_count": 110
        }
      ]
    },
    {
      "cell_type": "code",
      "metadata": {
        "id": "hBthsWnqM-tX",
        "colab": {
          "base_uri": "https://localhost:8080/",
          "height": 428
        },
        "outputId": "2b63c36d-4592-4480-ffa6-01ef3f790506"
      },
      "source": [
        "df.head()"
      ],
      "execution_count": null,
      "outputs": [
        {
          "output_type": "execute_result",
          "data": {
            "text/html": [
              "<div>\n",
              "<style scoped>\n",
              "    .dataframe tbody tr th:only-of-type {\n",
              "        vertical-align: middle;\n",
              "    }\n",
              "\n",
              "    .dataframe tbody tr th {\n",
              "        vertical-align: top;\n",
              "    }\n",
              "\n",
              "    .dataframe thead th {\n",
              "        text-align: right;\n",
              "    }\n",
              "</style>\n",
              "<table border=\"1\" class=\"dataframe\">\n",
              "  <thead>\n",
              "    <tr style=\"text-align: right;\">\n",
              "      <th></th>\n",
              "      <th>channelGrouping</th>\n",
              "      <th>date</th>\n",
              "      <th>fullVisitorId</th>\n",
              "      <th>sessionId</th>\n",
              "      <th>visitId</th>\n",
              "      <th>visitNumber</th>\n",
              "      <th>visitStartTime</th>\n",
              "      <th>browser</th>\n",
              "      <th>operatingSystem</th>\n",
              "      <th>isMobile</th>\n",
              "      <th>deviceCategory</th>\n",
              "      <th>continent</th>\n",
              "      <th>subContinent</th>\n",
              "      <th>country</th>\n",
              "      <th>region</th>\n",
              "      <th>metro</th>\n",
              "      <th>city</th>\n",
              "      <th>networkDomain</th>\n",
              "      <th>hits</th>\n",
              "      <th>pageviews</th>\n",
              "      <th>bounces</th>\n",
              "      <th>newVisits</th>\n",
              "      <th>transactionRevenue</th>\n",
              "      <th>campaign</th>\n",
              "      <th>source</th>\n",
              "      <th>medium</th>\n",
              "      <th>keyword</th>\n",
              "      <th>isTrueDirect</th>\n",
              "      <th>referralPath</th>\n",
              "      <th>adContent</th>\n",
              "      <th>campaignCode</th>\n",
              "    </tr>\n",
              "  </thead>\n",
              "  <tbody>\n",
              "    <tr>\n",
              "      <th>0</th>\n",
              "      <td>Organic Search</td>\n",
              "      <td>20160902</td>\n",
              "      <td>9674781571160116268</td>\n",
              "      <td>9674781571160116268_1472804607</td>\n",
              "      <td>1472804607</td>\n",
              "      <td>1</td>\n",
              "      <td>1472804607</td>\n",
              "      <td>Chrome</td>\n",
              "      <td>Windows</td>\n",
              "      <td>False</td>\n",
              "      <td>desktop</td>\n",
              "      <td>Asia</td>\n",
              "      <td>Southeast Asia</td>\n",
              "      <td>Singapore</td>\n",
              "      <td>(not set)</td>\n",
              "      <td>(not set)</td>\n",
              "      <td>Singapore</td>\n",
              "      <td>unknown.unknown</td>\n",
              "      <td>1</td>\n",
              "      <td>1</td>\n",
              "      <td>1.0</td>\n",
              "      <td>1.0</td>\n",
              "      <td>NaN</td>\n",
              "      <td>(not set)</td>\n",
              "      <td>google</td>\n",
              "      <td>organic</td>\n",
              "      <td>(not provided)</td>\n",
              "      <td>NaN</td>\n",
              "      <td>NaN</td>\n",
              "      <td>NaN</td>\n",
              "      <td>NaN</td>\n",
              "    </tr>\n",
              "    <tr>\n",
              "      <th>1</th>\n",
              "      <td>Organic Search</td>\n",
              "      <td>20160902</td>\n",
              "      <td>8590648239310839049</td>\n",
              "      <td>8590648239310839049_1472835928</td>\n",
              "      <td>1472835928</td>\n",
              "      <td>1</td>\n",
              "      <td>1472835928</td>\n",
              "      <td>Chrome</td>\n",
              "      <td>Macintosh</td>\n",
              "      <td>False</td>\n",
              "      <td>desktop</td>\n",
              "      <td>Europe</td>\n",
              "      <td>Eastern Europe</td>\n",
              "      <td>Poland</td>\n",
              "      <td>not available in demo dataset</td>\n",
              "      <td>not available in demo dataset</td>\n",
              "      <td>not available in demo dataset</td>\n",
              "      <td>tpnet.pl</td>\n",
              "      <td>1</td>\n",
              "      <td>1</td>\n",
              "      <td>1.0</td>\n",
              "      <td>1.0</td>\n",
              "      <td>NaN</td>\n",
              "      <td>(not set)</td>\n",
              "      <td>google</td>\n",
              "      <td>organic</td>\n",
              "      <td>(not provided)</td>\n",
              "      <td>NaN</td>\n",
              "      <td>NaN</td>\n",
              "      <td>NaN</td>\n",
              "      <td>NaN</td>\n",
              "    </tr>\n",
              "    <tr>\n",
              "      <th>2</th>\n",
              "      <td>Affiliates</td>\n",
              "      <td>20160902</td>\n",
              "      <td>9772828344252850532</td>\n",
              "      <td>9772828344252850532_1472856802</td>\n",
              "      <td>1472856802</td>\n",
              "      <td>1</td>\n",
              "      <td>1472856802</td>\n",
              "      <td>Chrome</td>\n",
              "      <td>Macintosh</td>\n",
              "      <td>False</td>\n",
              "      <td>desktop</td>\n",
              "      <td>Americas</td>\n",
              "      <td>South America</td>\n",
              "      <td>Argentina</td>\n",
              "      <td>Buenos Aires</td>\n",
              "      <td>(not set)</td>\n",
              "      <td>Buenos Aires</td>\n",
              "      <td>phonevision.com.ar</td>\n",
              "      <td>1</td>\n",
              "      <td>1</td>\n",
              "      <td>1.0</td>\n",
              "      <td>1.0</td>\n",
              "      <td>NaN</td>\n",
              "      <td>Data Share Promo</td>\n",
              "      <td>Partners</td>\n",
              "      <td>affiliate</td>\n",
              "      <td>NaN</td>\n",
              "      <td>NaN</td>\n",
              "      <td>NaN</td>\n",
              "      <td>NaN</td>\n",
              "      <td>NaN</td>\n",
              "    </tr>\n",
              "    <tr>\n",
              "      <th>3</th>\n",
              "      <td>Organic Search</td>\n",
              "      <td>20160902</td>\n",
              "      <td>1350700416054916432</td>\n",
              "      <td>1350700416054916432_1472879649</td>\n",
              "      <td>1472879649</td>\n",
              "      <td>2</td>\n",
              "      <td>1472879649</td>\n",
              "      <td>Safari</td>\n",
              "      <td>iOS</td>\n",
              "      <td>True</td>\n",
              "      <td>mobile</td>\n",
              "      <td>Americas</td>\n",
              "      <td>Northern America</td>\n",
              "      <td>United States</td>\n",
              "      <td>not available in demo dataset</td>\n",
              "      <td>not available in demo dataset</td>\n",
              "      <td>not available in demo dataset</td>\n",
              "      <td>comcast.net</td>\n",
              "      <td>1</td>\n",
              "      <td>1</td>\n",
              "      <td>1.0</td>\n",
              "      <td>NaN</td>\n",
              "      <td>NaN</td>\n",
              "      <td>(not set)</td>\n",
              "      <td>google</td>\n",
              "      <td>organic</td>\n",
              "      <td>(not provided)</td>\n",
              "      <td>True</td>\n",
              "      <td>NaN</td>\n",
              "      <td>NaN</td>\n",
              "      <td>NaN</td>\n",
              "    </tr>\n",
              "    <tr>\n",
              "      <th>4</th>\n",
              "      <td>Organic Search</td>\n",
              "      <td>20160902</td>\n",
              "      <td>1350700416054916432</td>\n",
              "      <td>1350700416054916432_1472829671</td>\n",
              "      <td>1472829671</td>\n",
              "      <td>1</td>\n",
              "      <td>1472829671</td>\n",
              "      <td>Safari</td>\n",
              "      <td>iOS</td>\n",
              "      <td>True</td>\n",
              "      <td>mobile</td>\n",
              "      <td>Americas</td>\n",
              "      <td>Northern America</td>\n",
              "      <td>United States</td>\n",
              "      <td>not available in demo dataset</td>\n",
              "      <td>not available in demo dataset</td>\n",
              "      <td>not available in demo dataset</td>\n",
              "      <td>att.net</td>\n",
              "      <td>5</td>\n",
              "      <td>4</td>\n",
              "      <td>NaN</td>\n",
              "      <td>1.0</td>\n",
              "      <td>NaN</td>\n",
              "      <td>(not set)</td>\n",
              "      <td>google</td>\n",
              "      <td>organic</td>\n",
              "      <td>(not provided)</td>\n",
              "      <td>NaN</td>\n",
              "      <td>NaN</td>\n",
              "      <td>NaN</td>\n",
              "      <td>NaN</td>\n",
              "    </tr>\n",
              "  </tbody>\n",
              "</table>\n",
              "</div>"
            ],
            "text/plain": [
              "  channelGrouping      date  ... adContent campaignCode\n",
              "0  Organic Search  20160902  ...       NaN          NaN\n",
              "1  Organic Search  20160902  ...       NaN          NaN\n",
              "2      Affiliates  20160902  ...       NaN          NaN\n",
              "3  Organic Search  20160902  ...       NaN          NaN\n",
              "4  Organic Search  20160902  ...       NaN          NaN\n",
              "\n",
              "[5 rows x 31 columns]"
            ]
          },
          "metadata": {
            "tags": []
          },
          "execution_count": 111
        }
      ]
    },
    {
      "cell_type": "markdown",
      "metadata": {
        "id": "231C5yn_N0FC"
      },
      "source": [
        "# Tratando a variável resposta"
      ]
    },
    {
      "cell_type": "code",
      "metadata": {
        "id": "vn2VfpcRNwFu",
        "colab": {
          "base_uri": "https://localhost:8080/"
        },
        "outputId": "fe5d859c-56a4-49cd-fd39-1dacd6810e85"
      },
      "source": [
        "#Conta quanto de cada aparece\n",
        "df.transactionRevenue.value_counts()"
      ],
      "execution_count": null,
      "outputs": [
        {
          "output_type": "execute_result",
          "data": {
            "text/plain": [
              "19190000.0     3\n",
              "33590000.0     3\n",
              "13590000.0     3\n",
              "55990000.0     2\n",
              "18990000.0     2\n",
              "              ..\n",
              "374850000.0    1\n",
              "74850000.0     1\n",
              "291070000.0    1\n",
              "23960000.0     1\n",
              "16780000.0     1\n",
              "Name: transactionRevenue, Length: 146, dtype: int64"
            ]
          },
          "metadata": {
            "tags": []
          },
          "execution_count": 112
        }
      ]
    },
    {
      "cell_type": "code",
      "metadata": {
        "id": "4Vb6IZ5rN7XZ",
        "colab": {
          "base_uri": "https://localhost:8080/"
        },
        "outputId": "5ae4d5f5-c691-4d4c-b52a-323f8c05db22"
      },
      "source": [
        "# Conta quantos NaN tem na coluna\n",
        "df.transactionRevenue.isna().sum()\n",
        "# Tem 12119. Lembrando que o dataset tem 12283, a grande maioria não gastou no site. Logo NaN,\n",
        "# são usuários que não gastaram, ou seja, zero."
      ],
      "execution_count": null,
      "outputs": [
        {
          "output_type": "execute_result",
          "data": {
            "text/plain": [
              "12119"
            ]
          },
          "metadata": {
            "tags": []
          },
          "execution_count": 113
        }
      ]
    },
    {
      "cell_type": "code",
      "metadata": {
        "id": "VV6JLY8-Ow18"
      },
      "source": [
        "## Substituindo os NaNs por zero\n",
        "df.transactionRevenue.fillna(0, inplace=True)"
      ],
      "execution_count": null,
      "outputs": []
    },
    {
      "cell_type": "code",
      "metadata": {
        "id": "GPrDTboiPsNb",
        "colab": {
          "base_uri": "https://localhost:8080/"
        },
        "outputId": "c9dcbb09-83e7-4e85-ddf4-57f385dde373"
      },
      "source": [
        "df.transactionRevenue"
      ],
      "execution_count": null,
      "outputs": [
        {
          "output_type": "execute_result",
          "data": {
            "text/plain": [
              "0        0.0\n",
              "1        0.0\n",
              "2        0.0\n",
              "3        0.0\n",
              "4        0.0\n",
              "        ... \n",
              "12278    0.0\n",
              "12279    0.0\n",
              "12280    0.0\n",
              "12281    0.0\n",
              "12282    0.0\n",
              "Name: transactionRevenue, Length: 12283, dtype: float64"
            ]
          },
          "metadata": {
            "tags": []
          },
          "execution_count": 115
        }
      ]
    },
    {
      "cell_type": "code",
      "metadata": {
        "id": "0Gf7QZ3WPucl",
        "colab": {
          "base_uri": "https://localhost:8080/"
        },
        "outputId": "4b64dc6d-3145-4360-b92d-985cbfe01a0a"
      },
      "source": [
        "#Conta quanto de cada aparece\n",
        "df.transactionRevenue.value_counts()\n",
        "# mostra o numero de quantos usuarios gastaram nada (12119)"
      ],
      "execution_count": null,
      "outputs": [
        {
          "output_type": "execute_result",
          "data": {
            "text/plain": [
              "0.0            12119\n",
              "33590000.0         3\n",
              "13590000.0         3\n",
              "19190000.0         3\n",
              "31490000.0         2\n",
              "               ...  \n",
              "374850000.0        1\n",
              "74850000.0         1\n",
              "291070000.0        1\n",
              "23960000.0         1\n",
              "372650000.0        1\n",
              "Name: transactionRevenue, Length: 147, dtype: int64"
            ]
          },
          "metadata": {
            "tags": []
          },
          "execution_count": 116
        }
      ]
    },
    {
      "cell_type": "markdown",
      "metadata": {
        "id": "dngA3zZ4QKha"
      },
      "source": [
        "* transactionRevenue é uma coluna no Google Analytics que tem o total multiplicado por 10e6"
      ]
    },
    {
      "cell_type": "code",
      "metadata": {
        "id": "mpPksFKKPy9K"
      },
      "source": [
        "# Trazendo \"transactionRevenue\" para o valor real\n",
        "df.transactionRevenue = df.transactionRevenue/1e6"
      ],
      "execution_count": null,
      "outputs": []
    },
    {
      "cell_type": "code",
      "metadata": {
        "id": "_3Hf6oBBQrkv",
        "colab": {
          "base_uri": "https://localhost:8080/"
        },
        "outputId": "1ad3749d-e89d-49bb-cb5a-0034ceb5239a"
      },
      "source": [
        "df.transactionRevenue.value_counts()"
      ],
      "execution_count": null,
      "outputs": [
        {
          "output_type": "execute_result",
          "data": {
            "text/plain": [
              "0.00      12119\n",
              "19.19         3\n",
              "13.59         3\n",
              "33.59         3\n",
              "27.19         2\n",
              "          ...  \n",
              "253.77        1\n",
              "239.88        1\n",
              "88.05         1\n",
              "112.05        1\n",
              "26.49         1\n",
              "Name: transactionRevenue, Length: 147, dtype: int64"
            ]
          },
          "metadata": {
            "tags": []
          },
          "execution_count": 118
        }
      ]
    },
    {
      "cell_type": "code",
      "metadata": {
        "id": "-rEUAmKVQtGa",
        "colab": {
          "base_uri": "https://localhost:8080/"
        },
        "outputId": "72151888-db1b-412f-bbcd-940ae5a119e6"
      },
      "source": [
        "## Verificando o numero de usuários únicos\n",
        "len(df.fullVisitorId.unique())\n",
        "# 9997. Como temos 12283 sessões, alguns usuários visitaram interagiram com a pagina\n",
        "# mais de uma vez. Nesse sentido, vamos agregar as informações repetidas de cada usuário."
      ],
      "execution_count": null,
      "outputs": [
        {
          "output_type": "execute_result",
          "data": {
            "text/plain": [
              "9997"
            ]
          },
          "metadata": {
            "tags": []
          },
          "execution_count": 119
        }
      ]
    },
    {
      "cell_type": "code",
      "metadata": {
        "id": "LHA-_r0-S-0t",
        "colab": {
          "base_uri": "https://localhost:8080/",
          "height": 419
        },
        "outputId": "95e6cb54-9136-4604-9481-479158b9813e"
      },
      "source": [
        "# Agregando pela função de agregação .sum() e pela palavra chave \"fullVisitorId\".\n",
        "# [quantitatives] filtra as ariaveis quantitativas que são utilizadas\n",
        "df.groupby(\"fullVisitorId\", as_index=False)[quant].sum()\n",
        "\n",
        "#Como queremos o total por fullVisitorId, vamos utilizar a coluna fullVisitorId como chave do \n",
        "#groupby e posteriormente somar o total de quantitatives."
      ],
      "execution_count": null,
      "outputs": [
        {
          "output_type": "execute_result",
          "data": {
            "text/html": [
              "<div>\n",
              "<style scoped>\n",
              "    .dataframe tbody tr th:only-of-type {\n",
              "        vertical-align: middle;\n",
              "    }\n",
              "\n",
              "    .dataframe tbody tr th {\n",
              "        vertical-align: top;\n",
              "    }\n",
              "\n",
              "    .dataframe thead th {\n",
              "        text-align: right;\n",
              "    }\n",
              "</style>\n",
              "<table border=\"1\" class=\"dataframe\">\n",
              "  <thead>\n",
              "    <tr style=\"text-align: right;\">\n",
              "      <th></th>\n",
              "      <th>fullVisitorId</th>\n",
              "      <th>bounces</th>\n",
              "      <th>hits</th>\n",
              "      <th>newVisits</th>\n",
              "      <th>pageviews</th>\n",
              "      <th>transactionRevenue</th>\n",
              "    </tr>\n",
              "  </thead>\n",
              "  <tbody>\n",
              "    <tr>\n",
              "      <th>0</th>\n",
              "      <td>0002365800130207040</td>\n",
              "      <td>1.0</td>\n",
              "      <td>1</td>\n",
              "      <td>1.0</td>\n",
              "      <td>1</td>\n",
              "      <td>0.0</td>\n",
              "    </tr>\n",
              "    <tr>\n",
              "      <th>1</th>\n",
              "      <td>0010286039787739137</td>\n",
              "      <td>0.0</td>\n",
              "      <td>4</td>\n",
              "      <td>1.0</td>\n",
              "      <td>3</td>\n",
              "      <td>0.0</td>\n",
              "    </tr>\n",
              "    <tr>\n",
              "      <th>2</th>\n",
              "      <td>0011056874471185769</td>\n",
              "      <td>0.0</td>\n",
              "      <td>2</td>\n",
              "      <td>1.0</td>\n",
              "      <td>2</td>\n",
              "      <td>0.0</td>\n",
              "    </tr>\n",
              "    <tr>\n",
              "      <th>3</th>\n",
              "      <td>0014443856125569702</td>\n",
              "      <td>1.0</td>\n",
              "      <td>1</td>\n",
              "      <td>1.0</td>\n",
              "      <td>1</td>\n",
              "      <td>0.0</td>\n",
              "    </tr>\n",
              "    <tr>\n",
              "      <th>4</th>\n",
              "      <td>0017260116665815114</td>\n",
              "      <td>0.0</td>\n",
              "      <td>2</td>\n",
              "      <td>0.0</td>\n",
              "      <td>2</td>\n",
              "      <td>0.0</td>\n",
              "    </tr>\n",
              "    <tr>\n",
              "      <th>...</th>\n",
              "      <td>...</td>\n",
              "      <td>...</td>\n",
              "      <td>...</td>\n",
              "      <td>...</td>\n",
              "      <td>...</td>\n",
              "      <td>...</td>\n",
              "    </tr>\n",
              "    <tr>\n",
              "      <th>9992</th>\n",
              "      <td>9996691020299725061</td>\n",
              "      <td>0.0</td>\n",
              "      <td>10</td>\n",
              "      <td>0.0</td>\n",
              "      <td>10</td>\n",
              "      <td>0.0</td>\n",
              "    </tr>\n",
              "    <tr>\n",
              "      <th>9993</th>\n",
              "      <td>9996793353803109760</td>\n",
              "      <td>1.0</td>\n",
              "      <td>1</td>\n",
              "      <td>1.0</td>\n",
              "      <td>1</td>\n",
              "      <td>0.0</td>\n",
              "    </tr>\n",
              "    <tr>\n",
              "      <th>9994</th>\n",
              "      <td>9997125062030599880</td>\n",
              "      <td>0.0</td>\n",
              "      <td>8</td>\n",
              "      <td>1.0</td>\n",
              "      <td>8</td>\n",
              "      <td>0.0</td>\n",
              "    </tr>\n",
              "    <tr>\n",
              "      <th>9995</th>\n",
              "      <td>9997464307347866920</td>\n",
              "      <td>1.0</td>\n",
              "      <td>1</td>\n",
              "      <td>1.0</td>\n",
              "      <td>1</td>\n",
              "      <td>0.0</td>\n",
              "    </tr>\n",
              "    <tr>\n",
              "      <th>9996</th>\n",
              "      <td>9999355589118867468</td>\n",
              "      <td>2.0</td>\n",
              "      <td>2</td>\n",
              "      <td>1.0</td>\n",
              "      <td>2</td>\n",
              "      <td>0.0</td>\n",
              "    </tr>\n",
              "  </tbody>\n",
              "</table>\n",
              "<p>9997 rows × 6 columns</p>\n",
              "</div>"
            ],
            "text/plain": [
              "            fullVisitorId  bounces  ...  pageviews  transactionRevenue\n",
              "0     0002365800130207040      1.0  ...          1                 0.0\n",
              "1     0010286039787739137      0.0  ...          3                 0.0\n",
              "2     0011056874471185769      0.0  ...          2                 0.0\n",
              "3     0014443856125569702      1.0  ...          1                 0.0\n",
              "4     0017260116665815114      0.0  ...          2                 0.0\n",
              "...                   ...      ...  ...        ...                 ...\n",
              "9992  9996691020299725061      0.0  ...         10                 0.0\n",
              "9993  9996793353803109760      1.0  ...          1                 0.0\n",
              "9994  9997125062030599880      0.0  ...          8                 0.0\n",
              "9995  9997464307347866920      1.0  ...          1                 0.0\n",
              "9996  9999355589118867468      2.0  ...          2                 0.0\n",
              "\n",
              "[9997 rows x 6 columns]"
            ]
          },
          "metadata": {
            "tags": []
          },
          "execution_count": 120
        }
      ]
    },
    {
      "cell_type": "code",
      "metadata": {
        "id": "5azcv5dAVTca"
      },
      "source": [
        "df_quant = df.groupby(\"fullVisitorId\", as_index=False)[quant].sum()"
      ],
      "execution_count": null,
      "outputs": []
    },
    {
      "cell_type": "code",
      "metadata": {
        "id": "jbNi3dYkS8lU",
        "colab": {
          "base_uri": "https://localhost:8080/",
          "height": 204
        },
        "outputId": "9c4055b3-f3b8-4932-f4b0-800bbf04ccb9"
      },
      "source": [
        "df_quant.head() # novo dataframe com o resultado de cada usuário, cada jornada de usuário"
      ],
      "execution_count": null,
      "outputs": [
        {
          "output_type": "execute_result",
          "data": {
            "text/html": [
              "<div>\n",
              "<style scoped>\n",
              "    .dataframe tbody tr th:only-of-type {\n",
              "        vertical-align: middle;\n",
              "    }\n",
              "\n",
              "    .dataframe tbody tr th {\n",
              "        vertical-align: top;\n",
              "    }\n",
              "\n",
              "    .dataframe thead th {\n",
              "        text-align: right;\n",
              "    }\n",
              "</style>\n",
              "<table border=\"1\" class=\"dataframe\">\n",
              "  <thead>\n",
              "    <tr style=\"text-align: right;\">\n",
              "      <th></th>\n",
              "      <th>fullVisitorId</th>\n",
              "      <th>bounces</th>\n",
              "      <th>hits</th>\n",
              "      <th>newVisits</th>\n",
              "      <th>pageviews</th>\n",
              "      <th>transactionRevenue</th>\n",
              "    </tr>\n",
              "  </thead>\n",
              "  <tbody>\n",
              "    <tr>\n",
              "      <th>0</th>\n",
              "      <td>0002365800130207040</td>\n",
              "      <td>1.0</td>\n",
              "      <td>1</td>\n",
              "      <td>1.0</td>\n",
              "      <td>1</td>\n",
              "      <td>0.0</td>\n",
              "    </tr>\n",
              "    <tr>\n",
              "      <th>1</th>\n",
              "      <td>0010286039787739137</td>\n",
              "      <td>0.0</td>\n",
              "      <td>4</td>\n",
              "      <td>1.0</td>\n",
              "      <td>3</td>\n",
              "      <td>0.0</td>\n",
              "    </tr>\n",
              "    <tr>\n",
              "      <th>2</th>\n",
              "      <td>0011056874471185769</td>\n",
              "      <td>0.0</td>\n",
              "      <td>2</td>\n",
              "      <td>1.0</td>\n",
              "      <td>2</td>\n",
              "      <td>0.0</td>\n",
              "    </tr>\n",
              "    <tr>\n",
              "      <th>3</th>\n",
              "      <td>0014443856125569702</td>\n",
              "      <td>1.0</td>\n",
              "      <td>1</td>\n",
              "      <td>1.0</td>\n",
              "      <td>1</td>\n",
              "      <td>0.0</td>\n",
              "    </tr>\n",
              "    <tr>\n",
              "      <th>4</th>\n",
              "      <td>0017260116665815114</td>\n",
              "      <td>0.0</td>\n",
              "      <td>2</td>\n",
              "      <td>0.0</td>\n",
              "      <td>2</td>\n",
              "      <td>0.0</td>\n",
              "    </tr>\n",
              "  </tbody>\n",
              "</table>\n",
              "</div>"
            ],
            "text/plain": [
              "         fullVisitorId  bounces  hits  newVisits  pageviews  transactionRevenue\n",
              "0  0002365800130207040      1.0     1        1.0          1                 0.0\n",
              "1  0010286039787739137      0.0     4        1.0          3                 0.0\n",
              "2  0011056874471185769      0.0     2        1.0          2                 0.0\n",
              "3  0014443856125569702      1.0     1        1.0          1                 0.0\n",
              "4  0017260116665815114      0.0     2        0.0          2                 0.0"
            ]
          },
          "metadata": {
            "tags": []
          },
          "execution_count": 122
        }
      ]
    },
    {
      "cell_type": "code",
      "metadata": {
        "id": "o4oji0VNUbZg"
      },
      "source": [
        "## Definindo as features e a variável target\n",
        "x = df_quant.iloc[:,:-1]"
      ],
      "execution_count": null,
      "outputs": []
    },
    {
      "cell_type": "code",
      "metadata": {
        "id": "nFS89hj8-FNG"
      },
      "source": [
        "y = df_quant.iloc[:,-1]"
      ],
      "execution_count": null,
      "outputs": []
    },
    {
      "cell_type": "code",
      "metadata": {
        "id": "C6_rcRNe_k28"
      },
      "source": [
        "## Fazendo split dos dados separando em treino e teste\n",
        "from sklearn.model_selection import train_test_split\n",
        "xtrain, xtest, ytrain, ytest = train_test_split(x,y, test_size = 0.3, random_state = 42)"
      ],
      "execution_count": null,
      "outputs": []
    },
    {
      "cell_type": "code",
      "metadata": {
        "id": "huI5IAkFBF4x",
        "colab": {
          "base_uri": "https://localhost:8080/"
        },
        "outputId": "03e83f2e-a508-485b-c97f-606bc8ee5094"
      },
      "source": [
        "## Treinando o model com .fit\n",
        "from sklearn.linear_model import  LinearRegression\n",
        "from  sklearn.metrics import r2_score, mean_squared_error\n",
        "\n",
        "linreg = LinearRegression()\n",
        "linreg.fit(xtrain, ytrain)\n"
      ],
      "execution_count": null,
      "outputs": [
        {
          "output_type": "execute_result",
          "data": {
            "text/plain": [
              "LinearRegression(copy_X=True, fit_intercept=True, n_jobs=None, normalize=False)"
            ]
          },
          "metadata": {
            "tags": []
          },
          "execution_count": 126
        }
      ]
    },
    {
      "cell_type": "code",
      "metadata": {
        "id": "z9k89F3OBrKu",
        "colab": {
          "base_uri": "https://localhost:8080/"
        },
        "outputId": "bacc7a03-f2d1-4416-ae9e-8cb557c59f04"
      },
      "source": [
        "# Predizendo valores futuros\n",
        "ypred = linreg.predict(xtest)\n",
        "ypred"
      ],
      "execution_count": null,
      "outputs": [
        {
          "output_type": "execute_result",
          "data": {
            "text/plain": [
              "array([1.55166047, 1.55520911, 1.68772647, ..., 1.61310964, 1.52678998,\n",
              "       1.58119137])"
            ]
          },
          "metadata": {
            "tags": []
          },
          "execution_count": 127
        }
      ]
    },
    {
      "cell_type": "code",
      "metadata": {
        "id": "Bw-PauSIB0FX",
        "colab": {
          "base_uri": "https://localhost:8080/"
        },
        "outputId": "5954742c-a768-48fb-ffa9-c9c15327193f"
      },
      "source": [
        "r2 = r2_score(ytest, ypred)\n",
        "r2"
      ],
      "execution_count": null,
      "outputs": [
        {
          "output_type": "execute_result",
          "data": {
            "text/plain": [
              "-0.001162263338497782"
            ]
          },
          "metadata": {
            "tags": []
          },
          "execution_count": 128
        }
      ]
    },
    {
      "cell_type": "code",
      "metadata": {
        "id": "LoxczQg9ChQs",
        "colab": {
          "base_uri": "https://localhost:8080/"
        },
        "outputId": "2bbcd6ad-042d-4594-d0eb-b6bded6732b1"
      },
      "source": [
        "mse = mean_squared_error(ytest,ypred)\n",
        "mse"
      ],
      "execution_count": null,
      "outputs": [
        {
          "output_type": "execute_result",
          "data": {
            "text/plain": [
              "807.2459296820928"
            ]
          },
          "metadata": {
            "tags": []
          },
          "execution_count": 129
        }
      ]
    },
    {
      "cell_type": "code",
      "metadata": {
        "id": "V40XBXRCDI1u"
      },
      "source": [
        ""
      ],
      "execution_count": null,
      "outputs": []
    },
    {
      "cell_type": "markdown",
      "metadata": {
        "id": "k-Vzo4RFDhmR"
      },
      "source": [
        "## Análise Gráfica do resultado com Seaborn"
      ]
    },
    {
      "cell_type": "code",
      "metadata": {
        "id": "KSx7jDfLDldu"
      },
      "source": [
        "import seaborn as sns"
      ],
      "execution_count": null,
      "outputs": []
    },
    {
      "cell_type": "code",
      "metadata": {
        "id": "sPkZxMRPDr8a",
        "colab": {
          "base_uri": "https://localhost:8080/",
          "height": 336
        },
        "outputId": "ae1034a4-1cce-46b1-9300-80708d77cb93"
      },
      "source": [
        "## Analisando um boxplot para entender a distribuição da variável ypred\n",
        "sns.boxplot(ypred)"
      ],
      "execution_count": null,
      "outputs": [
        {
          "output_type": "stream",
          "text": [
            "/usr/local/lib/python3.7/dist-packages/seaborn/_decorators.py:43: FutureWarning: Pass the following variable as a keyword arg: x. From version 0.12, the only valid positional argument will be `data`, and passing other arguments without an explicit keyword will result in an error or misinterpretation.\n",
            "  FutureWarning\n"
          ],
          "name": "stderr"
        },
        {
          "output_type": "execute_result",
          "data": {
            "text/plain": [
              "<matplotlib.axes._subplots.AxesSubplot at 0x7ffb3b5c4b50>"
            ]
          },
          "metadata": {
            "tags": []
          },
          "execution_count": 131
        },
        {
          "output_type": "display_data",
          "data": {
            "image/png": "[encoded data removed]",
            "text/plain": [
              "<Figure size 432x288 with 1 Axes>"
            ]
          },
          "metadata": {
            "tags": [],
            "needs_background": "light"
          }
        }
      ]
    },
    {
      "cell_type": "code",
      "metadata": {
        "id": "1276ymStEOIR",
        "colab": {
          "base_uri": "https://localhost:8080/",
          "height": 350
        },
        "outputId": "5d14752d-8152-470d-ce0d-079f03eb6779"
      },
      "source": [
        "## Analisando um boxplot para entender a distribuição da variável ytest\n",
        "sns.boxplot(ytest)"
      ],
      "execution_count": null,
      "outputs": [
        {
          "output_type": "stream",
          "text": [
            "/usr/local/lib/python3.7/dist-packages/seaborn/_decorators.py:43: FutureWarning: Pass the following variable as a keyword arg: x. From version 0.12, the only valid positional argument will be `data`, and passing other arguments without an explicit keyword will result in an error or misinterpretation.\n",
            "  FutureWarning\n"
          ],
          "name": "stderr"
        },
        {
          "output_type": "execute_result",
          "data": {
            "text/plain": [
              "<matplotlib.axes._subplots.AxesSubplot at 0x7ffb3b0b1f50>"
            ]
          },
          "metadata": {
            "tags": []
          },
          "execution_count": 132
        },
        {
          "output_type": "display_data",
          "data": {
            "image/png": "[encoded data removed]",
            "text/plain": [
              "<Figure size 432x288 with 1 Axes>"
            ]
          },
          "metadata": {
            "tags": [],
            "needs_background": "light"
          }
        }
      ]
    },
    {
      "cell_type": "code",
      "metadata": {
        "id": "ESKAceX5EQmE",
        "colab": {
          "base_uri": "https://localhost:8080/",
          "height": 350
        },
        "outputId": "248c39e5-56c1-49a4-9a2e-d8cb81762fa1"
      },
      "source": [
        "## Analisando um histograma para entender a distribuição da variável ypred\n",
        "sns.distplot(ypred-ytest)"
      ],
      "execution_count": null,
      "outputs": [
        {
          "output_type": "stream",
          "text": [
            "/usr/local/lib/python3.7/dist-packages/seaborn/distributions.py:2557: FutureWarning: `distplot` is a deprecated function and will be removed in a future version. Please adapt your code to use either `displot` (a figure-level function with similar flexibility) or `histplot` (an axes-level function for histograms).\n",
            "  warnings.warn(msg, FutureWarning)\n"
          ],
          "name": "stderr"
        },
        {
          "output_type": "execute_result",
          "data": {
            "text/plain": [
              "<matplotlib.axes._subplots.AxesSubplot at 0x7ffb3b034e50>"
            ]
          },
          "metadata": {
            "tags": []
          },
          "execution_count": 133
        },
        {
          "output_type": "display_data",
          "data": {
            "image/png": "[encoded data removed]",
            "text/plain": [
              "<Figure size 432x288 with 1 Axes>"
            ]
          },
          "metadata": {
            "tags": [],
            "needs_background": "light"
          }
        }
      ]
    },
    {
      "cell_type": "markdown",
      "metadata": {
        "id": "tBOD2sCPH8zu"
      },
      "source": [
        "# Melhorando o Feature Engeneering\n",
        "  * Vamos analisar a primeira e a última visita de cada usuário, Isso será feito pela coluna \"visitNumber\""
      ]
    },
    {
      "cell_type": "code",
      "metadata": {
        "id": "LNISQVmtEc-8"
      },
      "source": [
        "# Junta tudo pelo \"fullVisitorId\"\n",
        "visitas_ultima = df.groupby(\"fullVisitorId\", as_index=False)"
      ],
      "execution_count": null,
      "outputs": []
    },
    {
      "cell_type": "code",
      "metadata": {
        "id": "lyas2429IfEc",
        "colab": {
          "base_uri": "https://localhost:8080/",
          "height": 419
        },
        "outputId": "b6eb0e65-5be8-4b53-b275-3edc5f19232d"
      },
      "source": [
        "# Aqui, queremos o máximo valor da \"visitNumber\"\n",
        "visitas_ultima[\"visitNumber\"].max()"
      ],
      "execution_count": null,
      "outputs": [
        {
          "output_type": "execute_result",
          "data": {
            "text/html": [
              "<div>\n",
              "<style scoped>\n",
              "    .dataframe tbody tr th:only-of-type {\n",
              "        vertical-align: middle;\n",
              "    }\n",
              "\n",
              "    .dataframe tbody tr th {\n",
              "        vertical-align: top;\n",
              "    }\n",
              "\n",
              "    .dataframe thead th {\n",
              "        text-align: right;\n",
              "    }\n",
              "</style>\n",
              "<table border=\"1\" class=\"dataframe\">\n",
              "  <thead>\n",
              "    <tr style=\"text-align: right;\">\n",
              "      <th></th>\n",
              "      <th>fullVisitorId</th>\n",
              "      <th>visitNumber</th>\n",
              "    </tr>\n",
              "  </thead>\n",
              "  <tbody>\n",
              "    <tr>\n",
              "      <th>0</th>\n",
              "      <td>0002365800130207040</td>\n",
              "      <td>1</td>\n",
              "    </tr>\n",
              "    <tr>\n",
              "      <th>1</th>\n",
              "      <td>0010286039787739137</td>\n",
              "      <td>1</td>\n",
              "    </tr>\n",
              "    <tr>\n",
              "      <th>2</th>\n",
              "      <td>0011056874471185769</td>\n",
              "      <td>1</td>\n",
              "    </tr>\n",
              "    <tr>\n",
              "      <th>3</th>\n",
              "      <td>0014443856125569702</td>\n",
              "      <td>1</td>\n",
              "    </tr>\n",
              "    <tr>\n",
              "      <th>4</th>\n",
              "      <td>0017260116665815114</td>\n",
              "      <td>6</td>\n",
              "    </tr>\n",
              "    <tr>\n",
              "      <th>...</th>\n",
              "      <td>...</td>\n",
              "      <td>...</td>\n",
              "    </tr>\n",
              "    <tr>\n",
              "      <th>9992</th>\n",
              "      <td>9996691020299725061</td>\n",
              "      <td>3</td>\n",
              "    </tr>\n",
              "    <tr>\n",
              "      <th>9993</th>\n",
              "      <td>9996793353803109760</td>\n",
              "      <td>1</td>\n",
              "    </tr>\n",
              "    <tr>\n",
              "      <th>9994</th>\n",
              "      <td>9997125062030599880</td>\n",
              "      <td>1</td>\n",
              "    </tr>\n",
              "    <tr>\n",
              "      <th>9995</th>\n",
              "      <td>9997464307347866920</td>\n",
              "      <td>1</td>\n",
              "    </tr>\n",
              "    <tr>\n",
              "      <th>9996</th>\n",
              "      <td>9999355589118867468</td>\n",
              "      <td>2</td>\n",
              "    </tr>\n",
              "  </tbody>\n",
              "</table>\n",
              "<p>9997 rows × 2 columns</p>\n",
              "</div>"
            ],
            "text/plain": [
              "            fullVisitorId  visitNumber\n",
              "0     0002365800130207040            1\n",
              "1     0010286039787739137            1\n",
              "2     0011056874471185769            1\n",
              "3     0014443856125569702            1\n",
              "4     0017260116665815114            6\n",
              "...                   ...          ...\n",
              "9992  9996691020299725061            3\n",
              "9993  9996793353803109760            1\n",
              "9994  9997125062030599880            1\n",
              "9995  9997464307347866920            1\n",
              "9996  9999355589118867468            2\n",
              "\n",
              "[9997 rows x 2 columns]"
            ]
          },
          "metadata": {
            "tags": []
          },
          "execution_count": 135
        }
      ]
    },
    {
      "cell_type": "code",
      "metadata": {
        "id": "-57q0ffkK9bH"
      },
      "source": [
        "visitas_ultima = visitas_ultima[\"visitNumber\"].max()"
      ],
      "execution_count": null,
      "outputs": []
    },
    {
      "cell_type": "code",
      "metadata": {
        "id": "gO5yUvvJJBy_",
        "colab": {
          "base_uri": "https://localhost:8080/",
          "height": 204
        },
        "outputId": "a9daad2f-263a-4f92-a826-c554c26cc2e0"
      },
      "source": [
        "visitas_ultima.head()"
      ],
      "execution_count": null,
      "outputs": [
        {
          "output_type": "execute_result",
          "data": {
            "text/html": [
              "<div>\n",
              "<style scoped>\n",
              "    .dataframe tbody tr th:only-of-type {\n",
              "        vertical-align: middle;\n",
              "    }\n",
              "\n",
              "    .dataframe tbody tr th {\n",
              "        vertical-align: top;\n",
              "    }\n",
              "\n",
              "    .dataframe thead th {\n",
              "        text-align: right;\n",
              "    }\n",
              "</style>\n",
              "<table border=\"1\" class=\"dataframe\">\n",
              "  <thead>\n",
              "    <tr style=\"text-align: right;\">\n",
              "      <th></th>\n",
              "      <th>fullVisitorId</th>\n",
              "      <th>visitNumber</th>\n",
              "    </tr>\n",
              "  </thead>\n",
              "  <tbody>\n",
              "    <tr>\n",
              "      <th>0</th>\n",
              "      <td>0002365800130207040</td>\n",
              "      <td>1</td>\n",
              "    </tr>\n",
              "    <tr>\n",
              "      <th>1</th>\n",
              "      <td>0010286039787739137</td>\n",
              "      <td>1</td>\n",
              "    </tr>\n",
              "    <tr>\n",
              "      <th>2</th>\n",
              "      <td>0011056874471185769</td>\n",
              "      <td>1</td>\n",
              "    </tr>\n",
              "    <tr>\n",
              "      <th>3</th>\n",
              "      <td>0014443856125569702</td>\n",
              "      <td>1</td>\n",
              "    </tr>\n",
              "    <tr>\n",
              "      <th>4</th>\n",
              "      <td>0017260116665815114</td>\n",
              "      <td>6</td>\n",
              "    </tr>\n",
              "  </tbody>\n",
              "</table>\n",
              "</div>"
            ],
            "text/plain": [
              "         fullVisitorId  visitNumber\n",
              "0  0002365800130207040            1\n",
              "1  0010286039787739137            1\n",
              "2  0011056874471185769            1\n",
              "3  0014443856125569702            1\n",
              "4  0017260116665815114            6"
            ]
          },
          "metadata": {
            "tags": []
          },
          "execution_count": 137
        }
      ]
    },
    {
      "cell_type": "markdown",
      "metadata": {
        "id": "eFJ6shKF41mh"
      },
      "source": [
        "# Melhorando o Feature Engeneering\n",
        "   A nossa estratégia para cada usuário será a seguinte: mostrar as informações qualitativas da primeira e última sessão, e a soma dos valores quantitativos. Como primeiro passo, vamos criar um Dataframe com o fullVisitorId e com a última sessão que temos para aquele usuário no site."
      ]
    },
    {
      "cell_type": "code",
      "metadata": {
        "id": "LCpfKPoeLG8X",
        "colab": {
          "base_uri": "https://localhost:8080/",
          "height": 204
        },
        "outputId": "a770dd26-06e3-4ee3-810c-a5abe4556bf9"
      },
      "source": [
        "visitas_ultima = df.groupby('fullVisitorId',as_index=False)\n",
        "visitas_ultima = visitas_ultima['visitNumber'].max()\n",
        "visitas_ultima.head()"
      ],
      "execution_count": null,
      "outputs": [
        {
          "output_type": "execute_result",
          "data": {
            "text/html": [
              "<div>\n",
              "<style scoped>\n",
              "    .dataframe tbody tr th:only-of-type {\n",
              "        vertical-align: middle;\n",
              "    }\n",
              "\n",
              "    .dataframe tbody tr th {\n",
              "        vertical-align: top;\n",
              "    }\n",
              "\n",
              "    .dataframe thead th {\n",
              "        text-align: right;\n",
              "    }\n",
              "</style>\n",
              "<table border=\"1\" class=\"dataframe\">\n",
              "  <thead>\n",
              "    <tr style=\"text-align: right;\">\n",
              "      <th></th>\n",
              "      <th>fullVisitorId</th>\n",
              "      <th>visitNumber</th>\n",
              "    </tr>\n",
              "  </thead>\n",
              "  <tbody>\n",
              "    <tr>\n",
              "      <th>0</th>\n",
              "      <td>0002365800130207040</td>\n",
              "      <td>1</td>\n",
              "    </tr>\n",
              "    <tr>\n",
              "      <th>1</th>\n",
              "      <td>0010286039787739137</td>\n",
              "      <td>1</td>\n",
              "    </tr>\n",
              "    <tr>\n",
              "      <th>2</th>\n",
              "      <td>0011056874471185769</td>\n",
              "      <td>1</td>\n",
              "    </tr>\n",
              "    <tr>\n",
              "      <th>3</th>\n",
              "      <td>0014443856125569702</td>\n",
              "      <td>1</td>\n",
              "    </tr>\n",
              "    <tr>\n",
              "      <th>4</th>\n",
              "      <td>0017260116665815114</td>\n",
              "      <td>6</td>\n",
              "    </tr>\n",
              "  </tbody>\n",
              "</table>\n",
              "</div>"
            ],
            "text/plain": [
              "         fullVisitorId  visitNumber\n",
              "0  0002365800130207040            1\n",
              "1  0010286039787739137            1\n",
              "2  0011056874471185769            1\n",
              "3  0014443856125569702            1\n",
              "4  0017260116665815114            6"
            ]
          },
          "metadata": {
            "tags": []
          },
          "execution_count": 138
        }
      ]
    },
    {
      "cell_type": "markdown",
      "metadata": {
        "id": "BKYV1UAc5Zao"
      },
      "source": [
        "Agora vamos salvar um DataFrame com os valores únicos entre usuário e visita."
      ]
    },
    {
      "cell_type": "code",
      "metadata": {
        "id": "UhR_Cj3_5Z_9"
      },
      "source": [
        "usuarios_visitas_unicos = df.drop_duplicates(subset=['fullVisitorId','visitNumber'])"
      ],
      "execution_count": null,
      "outputs": []
    },
    {
      "cell_type": "markdown",
      "metadata": {
        "id": "saeo7Kwk5ccU"
      },
      "source": [
        "Agora podemos recuperar para cada última sessão de usuário, os valores para aquela sessão."
      ]
    },
    {
      "cell_type": "code",
      "metadata": {
        "id": "ulv2EMe95fCa"
      },
      "source": [
        "visitas = pd.merge(visitas_ultima,usuarios_visitas_unicos,left_on=['fullVisitorId','visitNumber'],\n",
        "                  right_on=['fullVisitorId','visitNumber'],how='left')"
      ],
      "execution_count": null,
      "outputs": []
    },
    {
      "cell_type": "markdown",
      "metadata": {
        "id": "Yo4Z__Mf5iTG"
      },
      "source": [
        "vamos criar um DataFrame com o usuário e a sua primeira sessão no site:"
      ]
    },
    {
      "cell_type": "code",
      "metadata": {
        "id": "vLHFeIEw5mRp"
      },
      "source": [
        "visitas_primeira = df.groupby('fullVisitorId',as_index=False)\n",
        "visitas_primeira = visitas_primeira['visitNumber'].min()\n",
        "visitas_primeira.set_index('fullVisitorId',inplace=True)"
      ],
      "execution_count": null,
      "outputs": []
    },
    {
      "cell_type": "markdown",
      "metadata": {
        "id": "FaYzrSVs5p0X"
      },
      "source": [
        "Agora vamos trazer todas as informações sobre a primeira visita para o dataframe “visitas”."
      ]
    },
    {
      "cell_type": "code",
      "metadata": {
        "id": "xItuEt6F5sY4",
        "colab": {
          "base_uri": "https://localhost:8080/",
          "height": 343
        },
        "outputId": "ac974bc6-392f-45db-b76f-5a98b631ead4"
      },
      "source": [
        "visitas = visitas.join(visitas_primeira,how='left',on='fullVisitorId',rsuffix='_primeira')\n",
        "visitas = pd.merge(visitas,usuarios_visitas_unicos,left_on=['fullVisitorId','visitNumber_primeira'],\n",
        "                  right_on=['fullVisitorId','visitNumber'],how='left', suffixes=['_ultima','_primeira'])\n",
        "visitas.head()"
      ],
      "execution_count": null,
      "outputs": [
        {
          "output_type": "execute_result",
          "data": {
            "text/html": [
              "<div>\n",
              "<style scoped>\n",
              "    .dataframe tbody tr th:only-of-type {\n",
              "        vertical-align: middle;\n",
              "    }\n",
              "\n",
              "    .dataframe tbody tr th {\n",
              "        vertical-align: top;\n",
              "    }\n",
              "\n",
              "    .dataframe thead th {\n",
              "        text-align: right;\n",
              "    }\n",
              "</style>\n",
              "<table border=\"1\" class=\"dataframe\">\n",
              "  <thead>\n",
              "    <tr style=\"text-align: right;\">\n",
              "      <th></th>\n",
              "      <th>fullVisitorId</th>\n",
              "      <th>visitNumber_ultima</th>\n",
              "      <th>channelGrouping_ultima</th>\n",
              "      <th>date_ultima</th>\n",
              "      <th>sessionId_ultima</th>\n",
              "      <th>visitId_ultima</th>\n",
              "      <th>visitStartTime_ultima</th>\n",
              "      <th>browser_ultima</th>\n",
              "      <th>operatingSystem_ultima</th>\n",
              "      <th>isMobile_ultima</th>\n",
              "      <th>deviceCategory_ultima</th>\n",
              "      <th>continent_ultima</th>\n",
              "      <th>subContinent_ultima</th>\n",
              "      <th>country_ultima</th>\n",
              "      <th>region_ultima</th>\n",
              "      <th>metro_ultima</th>\n",
              "      <th>city_ultima</th>\n",
              "      <th>networkDomain_ultima</th>\n",
              "      <th>hits_ultima</th>\n",
              "      <th>pageviews_ultima</th>\n",
              "      <th>bounces_ultima</th>\n",
              "      <th>newVisits_ultima</th>\n",
              "      <th>transactionRevenue_ultima</th>\n",
              "      <th>campaign_ultima</th>\n",
              "      <th>source_ultima</th>\n",
              "      <th>medium_ultima</th>\n",
              "      <th>keyword_ultima</th>\n",
              "      <th>isTrueDirect_ultima</th>\n",
              "      <th>referralPath_ultima</th>\n",
              "      <th>adContent_ultima</th>\n",
              "      <th>campaignCode_ultima</th>\n",
              "      <th>visitNumber_primeira</th>\n",
              "      <th>channelGrouping_primeira</th>\n",
              "      <th>date_primeira</th>\n",
              "      <th>sessionId_primeira</th>\n",
              "      <th>visitId_primeira</th>\n",
              "      <th>visitNumber_primeira</th>\n",
              "      <th>visitStartTime_primeira</th>\n",
              "      <th>browser_primeira</th>\n",
              "      <th>operatingSystem_primeira</th>\n",
              "      <th>isMobile_primeira</th>\n",
              "      <th>deviceCategory_primeira</th>\n",
              "      <th>continent_primeira</th>\n",
              "      <th>subContinent_primeira</th>\n",
              "      <th>country_primeira</th>\n",
              "      <th>region_primeira</th>\n",
              "      <th>metro_primeira</th>\n",
              "      <th>city_primeira</th>\n",
              "      <th>networkDomain_primeira</th>\n",
              "      <th>hits_primeira</th>\n",
              "      <th>pageviews_primeira</th>\n",
              "      <th>bounces_primeira</th>\n",
              "      <th>newVisits_primeira</th>\n",
              "      <th>transactionRevenue_primeira</th>\n",
              "      <th>campaign_primeira</th>\n",
              "      <th>source_primeira</th>\n",
              "      <th>medium_primeira</th>\n",
              "      <th>keyword_primeira</th>\n",
              "      <th>isTrueDirect_primeira</th>\n",
              "      <th>referralPath_primeira</th>\n",
              "      <th>adContent_primeira</th>\n",
              "      <th>campaignCode_primeira</th>\n",
              "    </tr>\n",
              "  </thead>\n",
              "  <tbody>\n",
              "    <tr>\n",
              "      <th>0</th>\n",
              "      <td>0002365800130207040</td>\n",
              "      <td>1</td>\n",
              "      <td>Social</td>\n",
              "      <td>20160904</td>\n",
              "      <td>0002365800130207040_1472974804</td>\n",
              "      <td>1472974804</td>\n",
              "      <td>1472974804</td>\n",
              "      <td>Edge</td>\n",
              "      <td>Windows</td>\n",
              "      <td>False</td>\n",
              "      <td>desktop</td>\n",
              "      <td>Europe</td>\n",
              "      <td>Eastern Europe</td>\n",
              "      <td>Ukraine</td>\n",
              "      <td>not available in demo dataset</td>\n",
              "      <td>not available in demo dataset</td>\n",
              "      <td>not available in demo dataset</td>\n",
              "      <td>wildpark.net</td>\n",
              "      <td>1</td>\n",
              "      <td>1</td>\n",
              "      <td>1.0</td>\n",
              "      <td>1.0</td>\n",
              "      <td>0.0</td>\n",
              "      <td>(not set)</td>\n",
              "      <td>youtube.com</td>\n",
              "      <td>referral</td>\n",
              "      <td>NaN</td>\n",
              "      <td>NaN</td>\n",
              "      <td>/yt/about/ru/</td>\n",
              "      <td>NaN</td>\n",
              "      <td>NaN</td>\n",
              "      <td>1</td>\n",
              "      <td>Social</td>\n",
              "      <td>20160904</td>\n",
              "      <td>0002365800130207040_1472974804</td>\n",
              "      <td>1472974804</td>\n",
              "      <td>1</td>\n",
              "      <td>1472974804</td>\n",
              "      <td>Edge</td>\n",
              "      <td>Windows</td>\n",
              "      <td>False</td>\n",
              "      <td>desktop</td>\n",
              "      <td>Europe</td>\n",
              "      <td>Eastern Europe</td>\n",
              "      <td>Ukraine</td>\n",
              "      <td>not available in demo dataset</td>\n",
              "      <td>not available in demo dataset</td>\n",
              "      <td>not available in demo dataset</td>\n",
              "      <td>wildpark.net</td>\n",
              "      <td>1</td>\n",
              "      <td>1</td>\n",
              "      <td>1.0</td>\n",
              "      <td>1.0</td>\n",
              "      <td>0.0</td>\n",
              "      <td>(not set)</td>\n",
              "      <td>youtube.com</td>\n",
              "      <td>referral</td>\n",
              "      <td>NaN</td>\n",
              "      <td>NaN</td>\n",
              "      <td>/yt/about/ru/</td>\n",
              "      <td>NaN</td>\n",
              "      <td>NaN</td>\n",
              "    </tr>\n",
              "    <tr>\n",
              "      <th>1</th>\n",
              "      <td>0010286039787739137</td>\n",
              "      <td>1</td>\n",
              "      <td>Organic Search</td>\n",
              "      <td>20160928</td>\n",
              "      <td>0010286039787739137_1475084026</td>\n",
              "      <td>1475084026</td>\n",
              "      <td>1475084026</td>\n",
              "      <td>Chrome</td>\n",
              "      <td>Chrome OS</td>\n",
              "      <td>False</td>\n",
              "      <td>desktop</td>\n",
              "      <td>Americas</td>\n",
              "      <td>Northern America</td>\n",
              "      <td>United States</td>\n",
              "      <td>Missouri</td>\n",
              "      <td>Kansas City MO</td>\n",
              "      <td>Kansas City</td>\n",
              "      <td>(not set)</td>\n",
              "      <td>4</td>\n",
              "      <td>3</td>\n",
              "      <td>NaN</td>\n",
              "      <td>1.0</td>\n",
              "      <td>0.0</td>\n",
              "      <td>(not set)</td>\n",
              "      <td>google</td>\n",
              "      <td>organic</td>\n",
              "      <td>(not provided)</td>\n",
              "      <td>NaN</td>\n",
              "      <td>NaN</td>\n",
              "      <td>NaN</td>\n",
              "      <td>NaN</td>\n",
              "      <td>1</td>\n",
              "      <td>Organic Search</td>\n",
              "      <td>20160928</td>\n",
              "      <td>0010286039787739137_1475084026</td>\n",
              "      <td>1475084026</td>\n",
              "      <td>1</td>\n",
              "      <td>1475084026</td>\n",
              "      <td>Chrome</td>\n",
              "      <td>Chrome OS</td>\n",
              "      <td>False</td>\n",
              "      <td>desktop</td>\n",
              "      <td>Americas</td>\n",
              "      <td>Northern America</td>\n",
              "      <td>United States</td>\n",
              "      <td>Missouri</td>\n",
              "      <td>Kansas City MO</td>\n",
              "      <td>Kansas City</td>\n",
              "      <td>(not set)</td>\n",
              "      <td>4</td>\n",
              "      <td>3</td>\n",
              "      <td>NaN</td>\n",
              "      <td>1.0</td>\n",
              "      <td>0.0</td>\n",
              "      <td>(not set)</td>\n",
              "      <td>google</td>\n",
              "      <td>organic</td>\n",
              "      <td>(not provided)</td>\n",
              "      <td>NaN</td>\n",
              "      <td>NaN</td>\n",
              "      <td>NaN</td>\n",
              "      <td>NaN</td>\n",
              "    </tr>\n",
              "    <tr>\n",
              "      <th>2</th>\n",
              "      <td>0011056874471185769</td>\n",
              "      <td>1</td>\n",
              "      <td>Social</td>\n",
              "      <td>20161205</td>\n",
              "      <td>0011056874471185769_1480996024</td>\n",
              "      <td>1480996024</td>\n",
              "      <td>1480996024</td>\n",
              "      <td>Chrome</td>\n",
              "      <td>Windows</td>\n",
              "      <td>False</td>\n",
              "      <td>desktop</td>\n",
              "      <td>Asia</td>\n",
              "      <td>Southeast Asia</td>\n",
              "      <td>Philippines</td>\n",
              "      <td>not available in demo dataset</td>\n",
              "      <td>not available in demo dataset</td>\n",
              "      <td>not available in demo dataset</td>\n",
              "      <td>pldt.net</td>\n",
              "      <td>2</td>\n",
              "      <td>2</td>\n",
              "      <td>NaN</td>\n",
              "      <td>1.0</td>\n",
              "      <td>0.0</td>\n",
              "      <td>(not set)</td>\n",
              "      <td>youtube.com</td>\n",
              "      <td>referral</td>\n",
              "      <td>NaN</td>\n",
              "      <td>NaN</td>\n",
              "      <td>/yt/about/</td>\n",
              "      <td>NaN</td>\n",
              "      <td>NaN</td>\n",
              "      <td>1</td>\n",
              "      <td>Social</td>\n",
              "      <td>20161205</td>\n",
              "      <td>0011056874471185769_1480996024</td>\n",
              "      <td>1480996024</td>\n",
              "      <td>1</td>\n",
              "      <td>1480996024</td>\n",
              "      <td>Chrome</td>\n",
              "      <td>Windows</td>\n",
              "      <td>False</td>\n",
              "      <td>desktop</td>\n",
              "      <td>Asia</td>\n",
              "      <td>Southeast Asia</td>\n",
              "      <td>Philippines</td>\n",
              "      <td>not available in demo dataset</td>\n",
              "      <td>not available in demo dataset</td>\n",
              "      <td>not available in demo dataset</td>\n",
              "      <td>pldt.net</td>\n",
              "      <td>2</td>\n",
              "      <td>2</td>\n",
              "      <td>NaN</td>\n",
              "      <td>1.0</td>\n",
              "      <td>0.0</td>\n",
              "      <td>(not set)</td>\n",
              "      <td>youtube.com</td>\n",
              "      <td>referral</td>\n",
              "      <td>NaN</td>\n",
              "      <td>NaN</td>\n",
              "      <td>/yt/about/</td>\n",
              "      <td>NaN</td>\n",
              "      <td>NaN</td>\n",
              "    </tr>\n",
              "    <tr>\n",
              "      <th>3</th>\n",
              "      <td>0014443856125569702</td>\n",
              "      <td>1</td>\n",
              "      <td>Social</td>\n",
              "      <td>20161002</td>\n",
              "      <td>0014443856125569702_1475423502</td>\n",
              "      <td>1475423502</td>\n",
              "      <td>1475423502</td>\n",
              "      <td>Opera</td>\n",
              "      <td>Windows</td>\n",
              "      <td>False</td>\n",
              "      <td>desktop</td>\n",
              "      <td>Europe</td>\n",
              "      <td>Eastern Europe</td>\n",
              "      <td>Romania</td>\n",
              "      <td>Bucharest</td>\n",
              "      <td>(not set)</td>\n",
              "      <td>Bucharest</td>\n",
              "      <td>rdsnet.ro</td>\n",
              "      <td>1</td>\n",
              "      <td>1</td>\n",
              "      <td>1.0</td>\n",
              "      <td>1.0</td>\n",
              "      <td>0.0</td>\n",
              "      <td>(not set)</td>\n",
              "      <td>youtube.com</td>\n",
              "      <td>referral</td>\n",
              "      <td>NaN</td>\n",
              "      <td>NaN</td>\n",
              "      <td>/yt/about/ro/</td>\n",
              "      <td>NaN</td>\n",
              "      <td>NaN</td>\n",
              "      <td>1</td>\n",
              "      <td>Social</td>\n",
              "      <td>20161002</td>\n",
              "      <td>0014443856125569702_1475423502</td>\n",
              "      <td>1475423502</td>\n",
              "      <td>1</td>\n",
              "      <td>1475423502</td>\n",
              "      <td>Opera</td>\n",
              "      <td>Windows</td>\n",
              "      <td>False</td>\n",
              "      <td>desktop</td>\n",
              "      <td>Europe</td>\n",
              "      <td>Eastern Europe</td>\n",
              "      <td>Romania</td>\n",
              "      <td>Bucharest</td>\n",
              "      <td>(not set)</td>\n",
              "      <td>Bucharest</td>\n",
              "      <td>rdsnet.ro</td>\n",
              "      <td>1</td>\n",
              "      <td>1</td>\n",
              "      <td>1.0</td>\n",
              "      <td>1.0</td>\n",
              "      <td>0.0</td>\n",
              "      <td>(not set)</td>\n",
              "      <td>youtube.com</td>\n",
              "      <td>referral</td>\n",
              "      <td>NaN</td>\n",
              "      <td>NaN</td>\n",
              "      <td>/yt/about/ro/</td>\n",
              "      <td>NaN</td>\n",
              "      <td>NaN</td>\n",
              "    </tr>\n",
              "    <tr>\n",
              "      <th>4</th>\n",
              "      <td>0017260116665815114</td>\n",
              "      <td>6</td>\n",
              "      <td>Direct</td>\n",
              "      <td>20170420</td>\n",
              "      <td>0017260116665815114_1492707286</td>\n",
              "      <td>1492707286</td>\n",
              "      <td>1492707286</td>\n",
              "      <td>Safari</td>\n",
              "      <td>Macintosh</td>\n",
              "      <td>False</td>\n",
              "      <td>desktop</td>\n",
              "      <td>Americas</td>\n",
              "      <td>Northern America</td>\n",
              "      <td>United States</td>\n",
              "      <td>not available in demo dataset</td>\n",
              "      <td>not available in demo dataset</td>\n",
              "      <td>not available in demo dataset</td>\n",
              "      <td>comcastbusiness.net</td>\n",
              "      <td>2</td>\n",
              "      <td>2</td>\n",
              "      <td>NaN</td>\n",
              "      <td>NaN</td>\n",
              "      <td>0.0</td>\n",
              "      <td>(not set)</td>\n",
              "      <td>(direct)</td>\n",
              "      <td>(none)</td>\n",
              "      <td>NaN</td>\n",
              "      <td>True</td>\n",
              "      <td>NaN</td>\n",
              "      <td>NaN</td>\n",
              "      <td>NaN</td>\n",
              "      <td>6</td>\n",
              "      <td>Direct</td>\n",
              "      <td>20170420</td>\n",
              "      <td>0017260116665815114_1492707286</td>\n",
              "      <td>1492707286</td>\n",
              "      <td>6</td>\n",
              "      <td>1492707286</td>\n",
              "      <td>Safari</td>\n",
              "      <td>Macintosh</td>\n",
              "      <td>False</td>\n",
              "      <td>desktop</td>\n",
              "      <td>Americas</td>\n",
              "      <td>Northern America</td>\n",
              "      <td>United States</td>\n",
              "      <td>not available in demo dataset</td>\n",
              "      <td>not available in demo dataset</td>\n",
              "      <td>not available in demo dataset</td>\n",
              "      <td>comcastbusiness.net</td>\n",
              "      <td>2</td>\n",
              "      <td>2</td>\n",
              "      <td>NaN</td>\n",
              "      <td>NaN</td>\n",
              "      <td>0.0</td>\n",
              "      <td>(not set)</td>\n",
              "      <td>(direct)</td>\n",
              "      <td>(none)</td>\n",
              "      <td>NaN</td>\n",
              "      <td>True</td>\n",
              "      <td>NaN</td>\n",
              "      <td>NaN</td>\n",
              "      <td>NaN</td>\n",
              "    </tr>\n",
              "  </tbody>\n",
              "</table>\n",
              "</div>"
            ],
            "text/plain": [
              "         fullVisitorId  ...  campaignCode_primeira\n",
              "0  0002365800130207040  ...                    NaN\n",
              "1  0010286039787739137  ...                    NaN\n",
              "2  0011056874471185769  ...                    NaN\n",
              "3  0014443856125569702  ...                    NaN\n",
              "4  0017260116665815114  ...                    NaN\n",
              "\n",
              "[5 rows x 62 columns]"
            ]
          },
          "metadata": {
            "tags": []
          },
          "execution_count": 142
        }
      ]
    },
    {
      "cell_type": "markdown",
      "metadata": {
        "id": "hFAxAJgi5uPr"
      },
      "source": [
        "Exclusão das colunas primeira e última referentes às variáveis quantitativas."
      ]
    },
    {
      "cell_type": "code",
      "metadata": {
        "id": "cY_pKfaO5xp_",
        "colab": {
          "base_uri": "https://localhost:8080/",
          "height": 677
        },
        "outputId": "6f1adb66-d032-458b-e1c0-19a1df1b1816"
      },
      "source": [
        "for coluna in quant:\n",
        "    visitas.drop(coluna + '_ultima',axis=1,inplace=True)\n",
        "    visitas.drop(coluna + '_primeira',axis=1,inplace=True)\n",
        "\n",
        "visitas"
      ],
      "execution_count": null,
      "outputs": [
        {
          "output_type": "execute_result",
          "data": {
            "text/html": [
              "<div>\n",
              "<style scoped>\n",
              "    .dataframe tbody tr th:only-of-type {\n",
              "        vertical-align: middle;\n",
              "    }\n",
              "\n",
              "    .dataframe tbody tr th {\n",
              "        vertical-align: top;\n",
              "    }\n",
              "\n",
              "    .dataframe thead th {\n",
              "        text-align: right;\n",
              "    }\n",
              "</style>\n",
              "<table border=\"1\" class=\"dataframe\">\n",
              "  <thead>\n",
              "    <tr style=\"text-align: right;\">\n",
              "      <th></th>\n",
              "      <th>fullVisitorId</th>\n",
              "      <th>visitNumber_ultima</th>\n",
              "      <th>channelGrouping_ultima</th>\n",
              "      <th>date_ultima</th>\n",
              "      <th>sessionId_ultima</th>\n",
              "      <th>visitId_ultima</th>\n",
              "      <th>visitStartTime_ultima</th>\n",
              "      <th>browser_ultima</th>\n",
              "      <th>operatingSystem_ultima</th>\n",
              "      <th>isMobile_ultima</th>\n",
              "      <th>deviceCategory_ultima</th>\n",
              "      <th>continent_ultima</th>\n",
              "      <th>subContinent_ultima</th>\n",
              "      <th>country_ultima</th>\n",
              "      <th>region_ultima</th>\n",
              "      <th>metro_ultima</th>\n",
              "      <th>city_ultima</th>\n",
              "      <th>networkDomain_ultima</th>\n",
              "      <th>campaign_ultima</th>\n",
              "      <th>source_ultima</th>\n",
              "      <th>medium_ultima</th>\n",
              "      <th>keyword_ultima</th>\n",
              "      <th>isTrueDirect_ultima</th>\n",
              "      <th>referralPath_ultima</th>\n",
              "      <th>adContent_ultima</th>\n",
              "      <th>campaignCode_ultima</th>\n",
              "      <th>visitNumber_primeira</th>\n",
              "      <th>channelGrouping_primeira</th>\n",
              "      <th>date_primeira</th>\n",
              "      <th>sessionId_primeira</th>\n",
              "      <th>visitId_primeira</th>\n",
              "      <th>visitNumber_primeira</th>\n",
              "      <th>visitStartTime_primeira</th>\n",
              "      <th>browser_primeira</th>\n",
              "      <th>operatingSystem_primeira</th>\n",
              "      <th>isMobile_primeira</th>\n",
              "      <th>deviceCategory_primeira</th>\n",
              "      <th>continent_primeira</th>\n",
              "      <th>subContinent_primeira</th>\n",
              "      <th>country_primeira</th>\n",
              "      <th>region_primeira</th>\n",
              "      <th>metro_primeira</th>\n",
              "      <th>city_primeira</th>\n",
              "      <th>networkDomain_primeira</th>\n",
              "      <th>campaign_primeira</th>\n",
              "      <th>source_primeira</th>\n",
              "      <th>medium_primeira</th>\n",
              "      <th>keyword_primeira</th>\n",
              "      <th>isTrueDirect_primeira</th>\n",
              "      <th>referralPath_primeira</th>\n",
              "      <th>adContent_primeira</th>\n",
              "      <th>campaignCode_primeira</th>\n",
              "    </tr>\n",
              "  </thead>\n",
              "  <tbody>\n",
              "    <tr>\n",
              "      <th>0</th>\n",
              "      <td>0002365800130207040</td>\n",
              "      <td>1</td>\n",
              "      <td>Social</td>\n",
              "      <td>20160904</td>\n",
              "      <td>0002365800130207040_1472974804</td>\n",
              "      <td>1472974804</td>\n",
              "      <td>1472974804</td>\n",
              "      <td>Edge</td>\n",
              "      <td>Windows</td>\n",
              "      <td>False</td>\n",
              "      <td>desktop</td>\n",
              "      <td>Europe</td>\n",
              "      <td>Eastern Europe</td>\n",
              "      <td>Ukraine</td>\n",
              "      <td>not available in demo dataset</td>\n",
              "      <td>not available in demo dataset</td>\n",
              "      <td>not available in demo dataset</td>\n",
              "      <td>wildpark.net</td>\n",
              "      <td>(not set)</td>\n",
              "      <td>youtube.com</td>\n",
              "      <td>referral</td>\n",
              "      <td>NaN</td>\n",
              "      <td>NaN</td>\n",
              "      <td>/yt/about/ru/</td>\n",
              "      <td>NaN</td>\n",
              "      <td>NaN</td>\n",
              "      <td>1</td>\n",
              "      <td>Social</td>\n",
              "      <td>20160904</td>\n",
              "      <td>0002365800130207040_1472974804</td>\n",
              "      <td>1472974804</td>\n",
              "      <td>1</td>\n",
              "      <td>1472974804</td>\n",
              "      <td>Edge</td>\n",
              "      <td>Windows</td>\n",
              "      <td>False</td>\n",
              "      <td>desktop</td>\n",
              "      <td>Europe</td>\n",
              "      <td>Eastern Europe</td>\n",
              "      <td>Ukraine</td>\n",
              "      <td>not available in demo dataset</td>\n",
              "      <td>not available in demo dataset</td>\n",
              "      <td>not available in demo dataset</td>\n",
              "      <td>wildpark.net</td>\n",
              "      <td>(not set)</td>\n",
              "      <td>youtube.com</td>\n",
              "      <td>referral</td>\n",
              "      <td>NaN</td>\n",
              "      <td>NaN</td>\n",
              "      <td>/yt/about/ru/</td>\n",
              "      <td>NaN</td>\n",
              "      <td>NaN</td>\n",
              "    </tr>\n",
              "    <tr>\n",
              "      <th>1</th>\n",
              "      <td>0010286039787739137</td>\n",
              "      <td>1</td>\n",
              "      <td>Organic Search</td>\n",
              "      <td>20160928</td>\n",
              "      <td>0010286039787739137_1475084026</td>\n",
              "      <td>1475084026</td>\n",
              "      <td>1475084026</td>\n",
              "      <td>Chrome</td>\n",
              "      <td>Chrome OS</td>\n",
              "      <td>False</td>\n",
              "      <td>desktop</td>\n",
              "      <td>Americas</td>\n",
              "      <td>Northern America</td>\n",
              "      <td>United States</td>\n",
              "      <td>Missouri</td>\n",
              "      <td>Kansas City MO</td>\n",
              "      <td>Kansas City</td>\n",
              "      <td>(not set)</td>\n",
              "      <td>(not set)</td>\n",
              "      <td>google</td>\n",
              "      <td>organic</td>\n",
              "      <td>(not provided)</td>\n",
              "      <td>NaN</td>\n",
              "      <td>NaN</td>\n",
              "      <td>NaN</td>\n",
              "      <td>NaN</td>\n",
              "      <td>1</td>\n",
              "      <td>Organic Search</td>\n",
              "      <td>20160928</td>\n",
              "      <td>0010286039787739137_1475084026</td>\n",
              "      <td>1475084026</td>\n",
              "      <td>1</td>\n",
              "      <td>1475084026</td>\n",
              "      <td>Chrome</td>\n",
              "      <td>Chrome OS</td>\n",
              "      <td>False</td>\n",
              "      <td>desktop</td>\n",
              "      <td>Americas</td>\n",
              "      <td>Northern America</td>\n",
              "      <td>United States</td>\n",
              "      <td>Missouri</td>\n",
              "      <td>Kansas City MO</td>\n",
              "      <td>Kansas City</td>\n",
              "      <td>(not set)</td>\n",
              "      <td>(not set)</td>\n",
              "      <td>google</td>\n",
              "      <td>organic</td>\n",
              "      <td>(not provided)</td>\n",
              "      <td>NaN</td>\n",
              "      <td>NaN</td>\n",
              "      <td>NaN</td>\n",
              "      <td>NaN</td>\n",
              "    </tr>\n",
              "    <tr>\n",
              "      <th>2</th>\n",
              "      <td>0011056874471185769</td>\n",
              "      <td>1</td>\n",
              "      <td>Social</td>\n",
              "      <td>20161205</td>\n",
              "      <td>0011056874471185769_1480996024</td>\n",
              "      <td>1480996024</td>\n",
              "      <td>1480996024</td>\n",
              "      <td>Chrome</td>\n",
              "      <td>Windows</td>\n",
              "      <td>False</td>\n",
              "      <td>desktop</td>\n",
              "      <td>Asia</td>\n",
              "      <td>Southeast Asia</td>\n",
              "      <td>Philippines</td>\n",
              "      <td>not available in demo dataset</td>\n",
              "      <td>not available in demo dataset</td>\n",
              "      <td>not available in demo dataset</td>\n",
              "      <td>pldt.net</td>\n",
              "      <td>(not set)</td>\n",
              "      <td>youtube.com</td>\n",
              "      <td>referral</td>\n",
              "      <td>NaN</td>\n",
              "      <td>NaN</td>\n",
              "      <td>/yt/about/</td>\n",
              "      <td>NaN</td>\n",
              "      <td>NaN</td>\n",
              "      <td>1</td>\n",
              "      <td>Social</td>\n",
              "      <td>20161205</td>\n",
              "      <td>0011056874471185769_1480996024</td>\n",
              "      <td>1480996024</td>\n",
              "      <td>1</td>\n",
              "      <td>1480996024</td>\n",
              "      <td>Chrome</td>\n",
              "      <td>Windows</td>\n",
              "      <td>False</td>\n",
              "      <td>desktop</td>\n",
              "      <td>Asia</td>\n",
              "      <td>Southeast Asia</td>\n",
              "      <td>Philippines</td>\n",
              "      <td>not available in demo dataset</td>\n",
              "      <td>not available in demo dataset</td>\n",
              "      <td>not available in demo dataset</td>\n",
              "      <td>pldt.net</td>\n",
              "      <td>(not set)</td>\n",
              "      <td>youtube.com</td>\n",
              "      <td>referral</td>\n",
              "      <td>NaN</td>\n",
              "      <td>NaN</td>\n",
              "      <td>/yt/about/</td>\n",
              "      <td>NaN</td>\n",
              "      <td>NaN</td>\n",
              "    </tr>\n",
              "    <tr>\n",
              "      <th>3</th>\n",
              "      <td>0014443856125569702</td>\n",
              "      <td>1</td>\n",
              "      <td>Social</td>\n",
              "      <td>20161002</td>\n",
              "      <td>0014443856125569702_1475423502</td>\n",
              "      <td>1475423502</td>\n",
              "      <td>1475423502</td>\n",
              "      <td>Opera</td>\n",
              "      <td>Windows</td>\n",
              "      <td>False</td>\n",
              "      <td>desktop</td>\n",
              "      <td>Europe</td>\n",
              "      <td>Eastern Europe</td>\n",
              "      <td>Romania</td>\n",
              "      <td>Bucharest</td>\n",
              "      <td>(not set)</td>\n",
              "      <td>Bucharest</td>\n",
              "      <td>rdsnet.ro</td>\n",
              "      <td>(not set)</td>\n",
              "      <td>youtube.com</td>\n",
              "      <td>referral</td>\n",
              "      <td>NaN</td>\n",
              "      <td>NaN</td>\n",
              "      <td>/yt/about/ro/</td>\n",
              "      <td>NaN</td>\n",
              "      <td>NaN</td>\n",
              "      <td>1</td>\n",
              "      <td>Social</td>\n",
              "      <td>20161002</td>\n",
              "      <td>0014443856125569702_1475423502</td>\n",
              "      <td>1475423502</td>\n",
              "      <td>1</td>\n",
              "      <td>1475423502</td>\n",
              "      <td>Opera</td>\n",
              "      <td>Windows</td>\n",
              "      <td>False</td>\n",
              "      <td>desktop</td>\n",
              "      <td>Europe</td>\n",
              "      <td>Eastern Europe</td>\n",
              "      <td>Romania</td>\n",
              "      <td>Bucharest</td>\n",
              "      <td>(not set)</td>\n",
              "      <td>Bucharest</td>\n",
              "      <td>rdsnet.ro</td>\n",
              "      <td>(not set)</td>\n",
              "      <td>youtube.com</td>\n",
              "      <td>referral</td>\n",
              "      <td>NaN</td>\n",
              "      <td>NaN</td>\n",
              "      <td>/yt/about/ro/</td>\n",
              "      <td>NaN</td>\n",
              "      <td>NaN</td>\n",
              "    </tr>\n",
              "    <tr>\n",
              "      <th>4</th>\n",
              "      <td>0017260116665815114</td>\n",
              "      <td>6</td>\n",
              "      <td>Direct</td>\n",
              "      <td>20170420</td>\n",
              "      <td>0017260116665815114_1492707286</td>\n",
              "      <td>1492707286</td>\n",
              "      <td>1492707286</td>\n",
              "      <td>Safari</td>\n",
              "      <td>Macintosh</td>\n",
              "      <td>False</td>\n",
              "      <td>desktop</td>\n",
              "      <td>Americas</td>\n",
              "      <td>Northern America</td>\n",
              "      <td>United States</td>\n",
              "      <td>not available in demo dataset</td>\n",
              "      <td>not available in demo dataset</td>\n",
              "      <td>not available in demo dataset</td>\n",
              "      <td>comcastbusiness.net</td>\n",
              "      <td>(not set)</td>\n",
              "      <td>(direct)</td>\n",
              "      <td>(none)</td>\n",
              "      <td>NaN</td>\n",
              "      <td>True</td>\n",
              "      <td>NaN</td>\n",
              "      <td>NaN</td>\n",
              "      <td>NaN</td>\n",
              "      <td>6</td>\n",
              "      <td>Direct</td>\n",
              "      <td>20170420</td>\n",
              "      <td>0017260116665815114_1492707286</td>\n",
              "      <td>1492707286</td>\n",
              "      <td>6</td>\n",
              "      <td>1492707286</td>\n",
              "      <td>Safari</td>\n",
              "      <td>Macintosh</td>\n",
              "      <td>False</td>\n",
              "      <td>desktop</td>\n",
              "      <td>Americas</td>\n",
              "      <td>Northern America</td>\n",
              "      <td>United States</td>\n",
              "      <td>not available in demo dataset</td>\n",
              "      <td>not available in demo dataset</td>\n",
              "      <td>not available in demo dataset</td>\n",
              "      <td>comcastbusiness.net</td>\n",
              "      <td>(not set)</td>\n",
              "      <td>(direct)</td>\n",
              "      <td>(none)</td>\n",
              "      <td>NaN</td>\n",
              "      <td>True</td>\n",
              "      <td>NaN</td>\n",
              "      <td>NaN</td>\n",
              "      <td>NaN</td>\n",
              "    </tr>\n",
              "    <tr>\n",
              "      <th>...</th>\n",
              "      <td>...</td>\n",
              "      <td>...</td>\n",
              "      <td>...</td>\n",
              "      <td>...</td>\n",
              "      <td>...</td>\n",
              "      <td>...</td>\n",
              "      <td>...</td>\n",
              "      <td>...</td>\n",
              "      <td>...</td>\n",
              "      <td>...</td>\n",
              "      <td>...</td>\n",
              "      <td>...</td>\n",
              "      <td>...</td>\n",
              "      <td>...</td>\n",
              "      <td>...</td>\n",
              "      <td>...</td>\n",
              "      <td>...</td>\n",
              "      <td>...</td>\n",
              "      <td>...</td>\n",
              "      <td>...</td>\n",
              "      <td>...</td>\n",
              "      <td>...</td>\n",
              "      <td>...</td>\n",
              "      <td>...</td>\n",
              "      <td>...</td>\n",
              "      <td>...</td>\n",
              "      <td>...</td>\n",
              "      <td>...</td>\n",
              "      <td>...</td>\n",
              "      <td>...</td>\n",
              "      <td>...</td>\n",
              "      <td>...</td>\n",
              "      <td>...</td>\n",
              "      <td>...</td>\n",
              "      <td>...</td>\n",
              "      <td>...</td>\n",
              "      <td>...</td>\n",
              "      <td>...</td>\n",
              "      <td>...</td>\n",
              "      <td>...</td>\n",
              "      <td>...</td>\n",
              "      <td>...</td>\n",
              "      <td>...</td>\n",
              "      <td>...</td>\n",
              "      <td>...</td>\n",
              "      <td>...</td>\n",
              "      <td>...</td>\n",
              "      <td>...</td>\n",
              "      <td>...</td>\n",
              "      <td>...</td>\n",
              "      <td>...</td>\n",
              "      <td>...</td>\n",
              "    </tr>\n",
              "    <tr>\n",
              "      <th>9992</th>\n",
              "      <td>9996691020299725061</td>\n",
              "      <td>3</td>\n",
              "      <td>Referral</td>\n",
              "      <td>20161221</td>\n",
              "      <td>9996691020299725061_1482388264</td>\n",
              "      <td>1482388264</td>\n",
              "      <td>1482388264</td>\n",
              "      <td>Chrome</td>\n",
              "      <td>Macintosh</td>\n",
              "      <td>False</td>\n",
              "      <td>desktop</td>\n",
              "      <td>Americas</td>\n",
              "      <td>Northern America</td>\n",
              "      <td>United States</td>\n",
              "      <td>not available in demo dataset</td>\n",
              "      <td>not available in demo dataset</td>\n",
              "      <td>not available in demo dataset</td>\n",
              "      <td>unknown.unknown</td>\n",
              "      <td>(not set)</td>\n",
              "      <td>mall.googleplex.com</td>\n",
              "      <td>referral</td>\n",
              "      <td>NaN</td>\n",
              "      <td>True</td>\n",
              "      <td>/</td>\n",
              "      <td>NaN</td>\n",
              "      <td>NaN</td>\n",
              "      <td>3</td>\n",
              "      <td>Referral</td>\n",
              "      <td>20161221</td>\n",
              "      <td>9996691020299725061_1482388264</td>\n",
              "      <td>1482388264</td>\n",
              "      <td>3</td>\n",
              "      <td>1482388264</td>\n",
              "      <td>Chrome</td>\n",
              "      <td>Macintosh</td>\n",
              "      <td>False</td>\n",
              "      <td>desktop</td>\n",
              "      <td>Americas</td>\n",
              "      <td>Northern America</td>\n",
              "      <td>United States</td>\n",
              "      <td>not available in demo dataset</td>\n",
              "      <td>not available in demo dataset</td>\n",
              "      <td>not available in demo dataset</td>\n",
              "      <td>unknown.unknown</td>\n",
              "      <td>(not set)</td>\n",
              "      <td>mall.googleplex.com</td>\n",
              "      <td>referral</td>\n",
              "      <td>NaN</td>\n",
              "      <td>True</td>\n",
              "      <td>/</td>\n",
              "      <td>NaN</td>\n",
              "      <td>NaN</td>\n",
              "    </tr>\n",
              "    <tr>\n",
              "      <th>9993</th>\n",
              "      <td>9996793353803109760</td>\n",
              "      <td>1</td>\n",
              "      <td>Social</td>\n",
              "      <td>20161130</td>\n",
              "      <td>9996793353803109760_1480566609</td>\n",
              "      <td>1480566609</td>\n",
              "      <td>1480566609</td>\n",
              "      <td>Chrome</td>\n",
              "      <td>Android</td>\n",
              "      <td>True</td>\n",
              "      <td>mobile</td>\n",
              "      <td>Asia</td>\n",
              "      <td>Southeast Asia</td>\n",
              "      <td>Thailand</td>\n",
              "      <td>Nakhon Ratchasima</td>\n",
              "      <td>(not set)</td>\n",
              "      <td>(not set)</td>\n",
              "      <td>3bb.co.th</td>\n",
              "      <td>(not set)</td>\n",
              "      <td>youtube.com</td>\n",
              "      <td>referral</td>\n",
              "      <td>NaN</td>\n",
              "      <td>NaN</td>\n",
              "      <td>/yt/about/th/</td>\n",
              "      <td>NaN</td>\n",
              "      <td>NaN</td>\n",
              "      <td>1</td>\n",
              "      <td>Social</td>\n",
              "      <td>20161130</td>\n",
              "      <td>9996793353803109760_1480566609</td>\n",
              "      <td>1480566609</td>\n",
              "      <td>1</td>\n",
              "      <td>1480566609</td>\n",
              "      <td>Chrome</td>\n",
              "      <td>Android</td>\n",
              "      <td>True</td>\n",
              "      <td>mobile</td>\n",
              "      <td>Asia</td>\n",
              "      <td>Southeast Asia</td>\n",
              "      <td>Thailand</td>\n",
              "      <td>Nakhon Ratchasima</td>\n",
              "      <td>(not set)</td>\n",
              "      <td>(not set)</td>\n",
              "      <td>3bb.co.th</td>\n",
              "      <td>(not set)</td>\n",
              "      <td>youtube.com</td>\n",
              "      <td>referral</td>\n",
              "      <td>NaN</td>\n",
              "      <td>NaN</td>\n",
              "      <td>/yt/about/th/</td>\n",
              "      <td>NaN</td>\n",
              "      <td>NaN</td>\n",
              "    </tr>\n",
              "    <tr>\n",
              "      <th>9994</th>\n",
              "      <td>9997125062030599880</td>\n",
              "      <td>1</td>\n",
              "      <td>Organic Search</td>\n",
              "      <td>20170112</td>\n",
              "      <td>9997125062030599880_1484217422</td>\n",
              "      <td>1484217422</td>\n",
              "      <td>1484217422</td>\n",
              "      <td>Safari</td>\n",
              "      <td>iOS</td>\n",
              "      <td>True</td>\n",
              "      <td>mobile</td>\n",
              "      <td>Americas</td>\n",
              "      <td>Northern America</td>\n",
              "      <td>United States</td>\n",
              "      <td>not available in demo dataset</td>\n",
              "      <td>not available in demo dataset</td>\n",
              "      <td>not available in demo dataset</td>\n",
              "      <td>(not set)</td>\n",
              "      <td>(not set)</td>\n",
              "      <td>google</td>\n",
              "      <td>organic</td>\n",
              "      <td>(not provided)</td>\n",
              "      <td>NaN</td>\n",
              "      <td>NaN</td>\n",
              "      <td>NaN</td>\n",
              "      <td>NaN</td>\n",
              "      <td>1</td>\n",
              "      <td>Organic Search</td>\n",
              "      <td>20170112</td>\n",
              "      <td>9997125062030599880_1484217422</td>\n",
              "      <td>1484217422</td>\n",
              "      <td>1</td>\n",
              "      <td>1484217422</td>\n",
              "      <td>Safari</td>\n",
              "      <td>iOS</td>\n",
              "      <td>True</td>\n",
              "      <td>mobile</td>\n",
              "      <td>Americas</td>\n",
              "      <td>Northern America</td>\n",
              "      <td>United States</td>\n",
              "      <td>not available in demo dataset</td>\n",
              "      <td>not available in demo dataset</td>\n",
              "      <td>not available in demo dataset</td>\n",
              "      <td>(not set)</td>\n",
              "      <td>(not set)</td>\n",
              "      <td>google</td>\n",
              "      <td>organic</td>\n",
              "      <td>(not provided)</td>\n",
              "      <td>NaN</td>\n",
              "      <td>NaN</td>\n",
              "      <td>NaN</td>\n",
              "      <td>NaN</td>\n",
              "    </tr>\n",
              "    <tr>\n",
              "      <th>9995</th>\n",
              "      <td>9997464307347866920</td>\n",
              "      <td>1</td>\n",
              "      <td>Organic Search</td>\n",
              "      <td>20170314</td>\n",
              "      <td>9997464307347866920_1489504370</td>\n",
              "      <td>1489504370</td>\n",
              "      <td>1489504370</td>\n",
              "      <td>Chrome</td>\n",
              "      <td>Android</td>\n",
              "      <td>True</td>\n",
              "      <td>mobile</td>\n",
              "      <td>Europe</td>\n",
              "      <td>Southern Europe</td>\n",
              "      <td>Greece</td>\n",
              "      <td>not available in demo dataset</td>\n",
              "      <td>not available in demo dataset</td>\n",
              "      <td>not available in demo dataset</td>\n",
              "      <td>(not set)</td>\n",
              "      <td>(not set)</td>\n",
              "      <td>google</td>\n",
              "      <td>organic</td>\n",
              "      <td>(not provided)</td>\n",
              "      <td>NaN</td>\n",
              "      <td>NaN</td>\n",
              "      <td>NaN</td>\n",
              "      <td>NaN</td>\n",
              "      <td>1</td>\n",
              "      <td>Organic Search</td>\n",
              "      <td>20170314</td>\n",
              "      <td>9997464307347866920_1489504370</td>\n",
              "      <td>1489504370</td>\n",
              "      <td>1</td>\n",
              "      <td>1489504370</td>\n",
              "      <td>Chrome</td>\n",
              "      <td>Android</td>\n",
              "      <td>True</td>\n",
              "      <td>mobile</td>\n",
              "      <td>Europe</td>\n",
              "      <td>Southern Europe</td>\n",
              "      <td>Greece</td>\n",
              "      <td>not available in demo dataset</td>\n",
              "      <td>not available in demo dataset</td>\n",
              "      <td>not available in demo dataset</td>\n",
              "      <td>(not set)</td>\n",
              "      <td>(not set)</td>\n",
              "      <td>google</td>\n",
              "      <td>organic</td>\n",
              "      <td>(not provided)</td>\n",
              "      <td>NaN</td>\n",
              "      <td>NaN</td>\n",
              "      <td>NaN</td>\n",
              "      <td>NaN</td>\n",
              "    </tr>\n",
              "    <tr>\n",
              "      <th>9996</th>\n",
              "      <td>9999355589118867468</td>\n",
              "      <td>2</td>\n",
              "      <td>Organic Search</td>\n",
              "      <td>20170529</td>\n",
              "      <td>9999355589118867468_1496052473</td>\n",
              "      <td>1496052473</td>\n",
              "      <td>1496052473</td>\n",
              "      <td>Chrome</td>\n",
              "      <td>Windows</td>\n",
              "      <td>False</td>\n",
              "      <td>desktop</td>\n",
              "      <td>Asia</td>\n",
              "      <td>Southeast Asia</td>\n",
              "      <td>Thailand</td>\n",
              "      <td>Bangkok</td>\n",
              "      <td>(not set)</td>\n",
              "      <td>Bangkok</td>\n",
              "      <td>3bb.co.th</td>\n",
              "      <td>(not set)</td>\n",
              "      <td>google</td>\n",
              "      <td>organic</td>\n",
              "      <td>(not provided)</td>\n",
              "      <td>NaN</td>\n",
              "      <td>NaN</td>\n",
              "      <td>NaN</td>\n",
              "      <td>NaN</td>\n",
              "      <td>1</td>\n",
              "      <td>Referral</td>\n",
              "      <td>20170528</td>\n",
              "      <td>9999355589118867468_1496038307</td>\n",
              "      <td>1496038307</td>\n",
              "      <td>1</td>\n",
              "      <td>1496038307</td>\n",
              "      <td>Chrome</td>\n",
              "      <td>Windows</td>\n",
              "      <td>False</td>\n",
              "      <td>desktop</td>\n",
              "      <td>Asia</td>\n",
              "      <td>Southeast Asia</td>\n",
              "      <td>Thailand</td>\n",
              "      <td>Bangkok</td>\n",
              "      <td>(not set)</td>\n",
              "      <td>Bangkok</td>\n",
              "      <td>3bb.co.th</td>\n",
              "      <td>(not set)</td>\n",
              "      <td>analytics.google.com</td>\n",
              "      <td>referral</td>\n",
              "      <td>NaN</td>\n",
              "      <td>NaN</td>\n",
              "      <td>/analytics/web/</td>\n",
              "      <td>NaN</td>\n",
              "      <td>NaN</td>\n",
              "    </tr>\n",
              "  </tbody>\n",
              "</table>\n",
              "<p>9997 rows × 52 columns</p>\n",
              "</div>"
            ],
            "text/plain": [
              "            fullVisitorId  ...  campaignCode_primeira\n",
              "0     0002365800130207040  ...                    NaN\n",
              "1     0010286039787739137  ...                    NaN\n",
              "2     0011056874471185769  ...                    NaN\n",
              "3     0014443856125569702  ...                    NaN\n",
              "4     0017260116665815114  ...                    NaN\n",
              "...                   ...  ...                    ...\n",
              "9992  9996691020299725061  ...                    NaN\n",
              "9993  9996793353803109760  ...                    NaN\n",
              "9994  9997125062030599880  ...                    NaN\n",
              "9995  9997464307347866920  ...                    NaN\n",
              "9996  9999355589118867468  ...                    NaN\n",
              "\n",
              "[9997 rows x 52 columns]"
            ]
          },
          "metadata": {
            "tags": []
          },
          "execution_count": 143
        }
      ]
    },
    {
      "cell_type": "code",
      "metadata": {
        "id": "RrgEBN648ETH",
        "colab": {
          "base_uri": "https://localhost:8080/",
          "height": 35
        },
        "outputId": "dc035af1-7f08-4a21-e925-1339454eeed2"
      },
      "source": [
        "coluna"
      ],
      "execution_count": null,
      "outputs": [
        {
          "output_type": "execute_result",
          "data": {
            "application/vnd.google.colaboratory.intrinsic+json": {
              "type": "string"
            },
            "text/plain": [
              "'transactionRevenue'"
            ]
          },
          "metadata": {
            "tags": []
          },
          "execution_count": 144
        }
      ]
    },
    {
      "cell_type": "markdown",
      "metadata": {
        "id": "zA7DaWYW50M3"
      },
      "source": [
        "Exclusão das colunas de ids."
      ]
    },
    {
      "cell_type": "code",
      "metadata": {
        "id": "n3nN4urt54R8"
      },
      "source": [
        "ids = ['sessionId_ultima','visitId_ultima','sessionId_primeira', 'visitId_primeira']\n",
        "visitas.drop(ids,axis=1,inplace=True)"
      ],
      "execution_count": null,
      "outputs": []
    },
    {
      "cell_type": "markdown",
      "metadata": {
        "id": "NFa-lFyF56He"
      },
      "source": [
        "Exclusão das variáveis geográficas."
      ]
    },
    {
      "cell_type": "code",
      "metadata": {
        "id": "hK8ncW5q-NZK",
        "colab": {
          "base_uri": "https://localhost:8080/"
        },
        "outputId": "24d480b0-1a73-48a9-ad04-78f756727efb"
      },
      "source": [
        "visitas.columns"
      ],
      "execution_count": null,
      "outputs": [
        {
          "output_type": "execute_result",
          "data": {
            "text/plain": [
              "Index(['fullVisitorId', 'visitNumber_ultima', 'channelGrouping_ultima',\n",
              "       'date_ultima', 'visitStartTime_ultima', 'browser_ultima',\n",
              "       'operatingSystem_ultima', 'isMobile_ultima', 'deviceCategory_ultima',\n",
              "       'continent_ultima', 'subContinent_ultima', 'country_ultima',\n",
              "       'region_ultima', 'metro_ultima', 'city_ultima', 'networkDomain_ultima',\n",
              "       'campaign_ultima', 'source_ultima', 'medium_ultima', 'keyword_ultima',\n",
              "       'isTrueDirect_ultima', 'referralPath_ultima', 'adContent_ultima',\n",
              "       'campaignCode_ultima', 'visitNumber_primeira',\n",
              "       'channelGrouping_primeira', 'date_primeira', 'visitNumber_primeira',\n",
              "       'visitStartTime_primeira', 'browser_primeira',\n",
              "       'operatingSystem_primeira', 'isMobile_primeira',\n",
              "       'deviceCategory_primeira', 'continent_primeira',\n",
              "       'subContinent_primeira', 'country_primeira', 'region_primeira',\n",
              "       'metro_primeira', 'city_primeira', 'networkDomain_primeira',\n",
              "       'campaign_primeira', 'source_primeira', 'medium_primeira',\n",
              "       'keyword_primeira', 'isTrueDirect_primeira', 'referralPath_primeira',\n",
              "       'adContent_primeira', 'campaignCode_primeira'],\n",
              "      dtype='object')"
            ]
          },
          "metadata": {
            "tags": []
          },
          "execution_count": 146
        }
      ]
    },
    {
      "cell_type": "code",
      "metadata": {
        "id": "NZ4-PJDc-SDt"
      },
      "source": [
        "geo = ['continent_primeira','subContinent_primeira', 'country_primeira', 'region_primeira',\n",
        "       'metro_primeira', 'city_primeira', 'networkDomain_primeira']"
      ],
      "execution_count": null,
      "outputs": []
    },
    {
      "cell_type": "code",
      "metadata": {
        "id": "gWKBngk958Jg"
      },
      "source": [
        "visitas.drop(geo,axis=1,inplace=True)"
      ],
      "execution_count": null,
      "outputs": []
    },
    {
      "cell_type": "markdown",
      "metadata": {
        "id": "0n9HcNG85-9N"
      },
      "source": [
        "Join das variáveis quantitativas ao dataframe visitas."
      ]
    },
    {
      "cell_type": "code",
      "metadata": {
        "id": "JT8ARluf6BSP"
      },
      "source": [
        "visitas = pd.merge(visitas,df_quant,left_on=['fullVisitorId'],\n",
        "                  right_on=['fullVisitorId'],how='left')"
      ],
      "execution_count": null,
      "outputs": []
    },
    {
      "cell_type": "markdown",
      "metadata": {
        "id": "O2Ikg-yF6Cz6"
      },
      "source": [
        "Criação da variável diferença de tempo entre primeira e última visita."
      ]
    },
    {
      "cell_type": "code",
      "metadata": {
        "id": "baeWp5HI6EzX"
      },
      "source": [
        "visitas['tempo_dif'] = visitas.visitStartTime_ultima - visitas.visitStartTime_primeira\n",
        "visits = df.groupby('fullVisitorId',as_index=False).count().visitNumber.values\n",
        "visitas['visits'] = visits"
      ],
      "execution_count": null,
      "outputs": []
    },
    {
      "cell_type": "markdown",
      "metadata": {
        "id": "gNAYH2U86GoM"
      },
      "source": [
        "Criação da variável total de visitas por usuário."
      ]
    },
    {
      "cell_type": "code",
      "metadata": {
        "id": "iMU_Ap6p6JHp"
      },
      "source": [
        "visits = df.groupby('fullVisitorId',as_index=False).count().visitNumber.values\n",
        "visitas['visits'] = visits"
      ],
      "execution_count": null,
      "outputs": []
    },
    {
      "cell_type": "code",
      "metadata": {
        "id": "J3ZLu1RT6OeD"
      },
      "source": [
        "#Criação de variável com informações sobre ano, mês e dia dos acessos.\n",
        "visitas['ano_ultima'] = pd.to_numeric([data[0:4] for data in visitas.date_ultima])\n",
        "visitas['mes_ultima'] = pd.to_numeric([data[4:6] for data in visitas.date_ultima])\n",
        "visitas['dia_ultima'] = pd.to_numeric([data[6:8] for data in visitas.date_ultima])\n",
        "visitas['ano_primeira'] = pd.to_numeric([data[0:4] for data in visitas.date_primeira])\n",
        "visitas['mes_primeira'] = pd.to_numeric([data[4:6] for data in visitas.date_primeira])\n",
        "visitas['dia_primeira'] = pd.to_numeric([data[6:8] for data in visitas.date_primeira])"
      ],
      "execution_count": null,
      "outputs": []
    },
    {
      "cell_type": "code",
      "metadata": {
        "id": "KzAbKGnL6V9t",
        "colab": {
          "base_uri": "https://localhost:8080/"
        },
        "outputId": "53496c14-dcf7-4872-b4d5-a559e01c1a77"
      },
      "source": [
        "visitas.dtypes"
      ],
      "execution_count": null,
      "outputs": [
        {
          "output_type": "execute_result",
          "data": {
            "text/plain": [
              "fullVisitorId                object\n",
              "visitNumber_ultima            int64\n",
              "channelGrouping_ultima       object\n",
              "date_ultima                  object\n",
              "visitStartTime_ultima         int64\n",
              "browser_ultima               object\n",
              "operatingSystem_ultima       object\n",
              "isMobile_ultima                bool\n",
              "deviceCategory_ultima        object\n",
              "continent_ultima             object\n",
              "subContinent_ultima          object\n",
              "country_ultima               object\n",
              "region_ultima                object\n",
              "metro_ultima                 object\n",
              "city_ultima                  object\n",
              "networkDomain_ultima         object\n",
              "campaign_ultima              object\n",
              "source_ultima                object\n",
              "medium_ultima                object\n",
              "keyword_ultima               object\n",
              "isTrueDirect_ultima          object\n",
              "referralPath_ultima          object\n",
              "adContent_ultima             object\n",
              "campaignCode_ultima          object\n",
              "visitNumber_primeira          int64\n",
              "channelGrouping_primeira     object\n",
              "date_primeira                object\n",
              "visitNumber_primeira          int64\n",
              "visitStartTime_primeira       int64\n",
              "browser_primeira             object\n",
              "operatingSystem_primeira     object\n",
              "isMobile_primeira              bool\n",
              "deviceCategory_primeira      object\n",
              "campaign_primeira            object\n",
              "source_primeira              object\n",
              "medium_primeira              object\n",
              "keyword_primeira             object\n",
              "isTrueDirect_primeira        object\n",
              "referralPath_primeira        object\n",
              "adContent_primeira           object\n",
              "campaignCode_primeira        object\n",
              "bounces                     float64\n",
              "hits                          int64\n",
              "newVisits                   float64\n",
              "pageviews                     int64\n",
              "transactionRevenue          float64\n",
              "tempo_dif                     int64\n",
              "visits                        int64\n",
              "ano_ultima                    int64\n",
              "mes_ultima                    int64\n",
              "dia_ultima                    int64\n",
              "ano_primeira                  int64\n",
              "mes_primeira                  int64\n",
              "dia_primeira                  int64\n",
              "dtype: object"
            ]
          },
          "metadata": {
            "tags": []
          },
          "execution_count": 153
        }
      ]
    },
    {
      "cell_type": "code",
      "metadata": {
        "id": "iodSaS106j_C"
      },
      "source": [
        "#Para treinar o nosso modelo, vamos remover o fullVisitorId da nossa base.\n",
        "visitas.drop('fullVisitorId',axis=1,inplace=True)"
      ],
      "execution_count": null,
      "outputs": []
    },
    {
      "cell_type": "code",
      "metadata": {
        "id": "TY-QZ6yn6mnV"
      },
      "source": [
        "#Separar variáveis preditoras e variável resposta\n",
        "y = visitas.transactionRevenue.copy()\n",
        "X = visitas.drop('transactionRevenue',axis=1)"
      ],
      "execution_count": null,
      "outputs": []
    },
    {
      "cell_type": "code",
      "metadata": {
        "id": "UImRFKJR6tIu",
        "colab": {
          "base_uri": "https://localhost:8080/"
        },
        "outputId": "b4ba4e8b-3e7e-4777-91d4-359dc6c63def"
      },
      "source": [
        "#Tratamento das variáveis categóricas com LabelEncoder\n",
        "quali = visitas.dtypes[visitas.dtypes == object].keys()\n",
        "from sklearn.preprocessing import LabelEncoder\n",
        "\n",
        "for coluna in quali:\n",
        "    lbl = LabelEncoder()\n",
        "    strings = list(X[coluna].values.astype('str'))\n",
        "    lbl.fit(strings)\n",
        "    X[coluna] = lbl.transform(strings)"
      ],
      "execution_count": null,
      "outputs": [
        {
          "output_type": "stream",
          "text": [
            "/usr/local/lib/python3.7/dist-packages/ipykernel_launcher.py:9: SettingWithCopyWarning: \n",
            "A value is trying to be set on a copy of a slice from a DataFrame.\n",
            "Try using .loc[row_indexer,col_indexer] = value instead\n",
            "\n",
            "See the caveats in the documentation: https://pandas.pydata.org/pandas-docs/stable/user_guide/indexing.html#returning-a-view-versus-a-copy\n",
            "  if __name__ == '__main__':\n"
          ],
          "name": "stderr"
        }
      ]
    },
    {
      "cell_type": "code",
      "metadata": {
        "id": "1SXxjM_M6wKY"
      },
      "source": [
        "#Separação em treino e teste\n",
        "X_train, X_test, y_train, y_test = train_test_split(X,y, test_size=0.3, random_state=42)"
      ],
      "execution_count": null,
      "outputs": []
    },
    {
      "cell_type": "code",
      "metadata": {
        "id": "tPmWb_OB60r4"
      },
      "source": [
        "#Treinamento e predição de uma regressão linear\n",
        "reg = LinearRegression()\n",
        "reg.fit(X_train,y_train)\n",
        "reg_predict = reg.predict(X_test)\n",
        "#reg_predict apresentou valores negativos. Como uma compra não pode ser negativa\n",
        "#inputamos zero\n",
        "reg_predict[reg_predict < 0] = 0"
      ],
      "execution_count": null,
      "outputs": []
    },
    {
      "cell_type": "code",
      "metadata": {
        "id": "niRup2QT7Grf",
        "colab": {
          "base_uri": "https://localhost:8080/",
          "height": 204
        },
        "outputId": "4e7e1816-afa3-44cb-eafb-7aa498e17ae0"
      },
      "source": [
        "#Criação do dataframe para avaliação dos resultados\n",
        "resultados = pd.DataFrame()\n",
        "resultados['revenue'] = y_test\n",
        "resultados['predict'] = reg_predict\n",
        "resultados['erro'] = reg_predict - y_test\n",
        "resultados.head()"
      ],
      "execution_count": null,
      "outputs": [
        {
          "output_type": "execute_result",
          "data": {
            "text/html": [
              "<div>\n",
              "<style scoped>\n",
              "    .dataframe tbody tr th:only-of-type {\n",
              "        vertical-align: middle;\n",
              "    }\n",
              "\n",
              "    .dataframe tbody tr th {\n",
              "        vertical-align: top;\n",
              "    }\n",
              "\n",
              "    .dataframe thead th {\n",
              "        text-align: right;\n",
              "    }\n",
              "</style>\n",
              "<table border=\"1\" class=\"dataframe\">\n",
              "  <thead>\n",
              "    <tr style=\"text-align: right;\">\n",
              "      <th></th>\n",
              "      <th>revenue</th>\n",
              "      <th>predict</th>\n",
              "      <th>erro</th>\n",
              "    </tr>\n",
              "  </thead>\n",
              "  <tbody>\n",
              "    <tr>\n",
              "      <th>4122</th>\n",
              "      <td>0.0</td>\n",
              "      <td>0.096512</td>\n",
              "      <td>0.096512</td>\n",
              "    </tr>\n",
              "    <tr>\n",
              "      <th>4065</th>\n",
              "      <td>0.0</td>\n",
              "      <td>0.000000</td>\n",
              "      <td>0.000000</td>\n",
              "    </tr>\n",
              "    <tr>\n",
              "      <th>1731</th>\n",
              "      <td>0.0</td>\n",
              "      <td>0.000000</td>\n",
              "      <td>0.000000</td>\n",
              "    </tr>\n",
              "    <tr>\n",
              "      <th>4740</th>\n",
              "      <td>0.0</td>\n",
              "      <td>0.414826</td>\n",
              "      <td>0.414826</td>\n",
              "    </tr>\n",
              "    <tr>\n",
              "      <th>6391</th>\n",
              "      <td>0.0</td>\n",
              "      <td>0.000000</td>\n",
              "      <td>0.000000</td>\n",
              "    </tr>\n",
              "  </tbody>\n",
              "</table>\n",
              "</div>"
            ],
            "text/plain": [
              "      revenue   predict      erro\n",
              "4122      0.0  0.096512  0.096512\n",
              "4065      0.0  0.000000  0.000000\n",
              "1731      0.0  0.000000  0.000000\n",
              "4740      0.0  0.414826  0.414826\n",
              "6391      0.0  0.000000  0.000000"
            ]
          },
          "metadata": {
            "tags": []
          },
          "execution_count": 159
        }
      ]
    },
    {
      "cell_type": "code",
      "metadata": {
        "id": "AvU25Nuh7JYt",
        "colab": {
          "base_uri": "https://localhost:8080/"
        },
        "outputId": "6a6f3e94-b783-401e-cc21-109232e54ee2"
      },
      "source": [
        "#Cálculo do RMSE\n",
        "np.sqrt(mean_squared_error(y_test,reg_predict))"
      ],
      "execution_count": null,
      "outputs": [
        {
          "output_type": "execute_result",
          "data": {
            "text/plain": [
              "25.020044347471156"
            ]
          },
          "metadata": {
            "tags": []
          },
          "execution_count": 160
        }
      ]
    },
    {
      "cell_type": "code",
      "metadata": {
        "id": "lAYlWZgT7Oci",
        "colab": {
          "base_uri": "https://localhost:8080/",
          "height": 336
        },
        "outputId": "4c9e5c49-fa21-4228-8bd2-2315df30268e"
      },
      "source": [
        "#Boxplot das predições\n",
        "sns.boxplot(reg_predict)"
      ],
      "execution_count": null,
      "outputs": [
        {
          "output_type": "stream",
          "text": [
            "/usr/local/lib/python3.7/dist-packages/seaborn/_decorators.py:43: FutureWarning: Pass the following variable as a keyword arg: x. From version 0.12, the only valid positional argument will be `data`, and passing other arguments without an explicit keyword will result in an error or misinterpretation.\n",
            "  FutureWarning\n"
          ],
          "name": "stderr"
        },
        {
          "output_type": "execute_result",
          "data": {
            "text/plain": [
              "<matplotlib.axes._subplots.AxesSubplot at 0x7ffb3b01b590>"
            ]
          },
          "metadata": {
            "tags": []
          },
          "execution_count": 161
        },
        {
          "output_type": "display_data",
          "data": {
            "image/png": "[encoded data removed]",
            "text/plain": [
              "<Figure size 432x288 with 1 Axes>"
            ]
          },
          "metadata": {
            "tags": [],
            "needs_background": "light"
          }
        }
      ]
    },
    {
      "cell_type": "code",
      "metadata": {
        "id": "j9XUjIL47SY1",
        "colab": {
          "base_uri": "https://localhost:8080/"
        },
        "outputId": "6eff9d55-814d-4d5c-adb0-48a6fbe9722d"
      },
      "source": [
        "#Treinamento do Gradient Boosting\n",
        "from sklearn.ensemble import GradientBoostingRegressor\n",
        "gb = GradientBoostingRegressor(random_state=42)\n",
        "gb.fit(X_train,y_train)\n",
        "gb_predict = gb.predict(X_test)\n",
        "gb_predict[gb_predict < 0 ] = 0\n",
        "gb_predict"
      ],
      "execution_count": null,
      "outputs": [
        {
          "output_type": "execute_result",
          "data": {
            "text/plain": [
              "array([0.03258195, 0.        , 0.        , ..., 0.33309813, 0.        ,\n",
              "       0.        ])"
            ]
          },
          "metadata": {
            "tags": []
          },
          "execution_count": 162
        }
      ]
    },
    {
      "cell_type": "code",
      "metadata": {
        "id": "AYrvLOhA7XM5",
        "colab": {
          "base_uri": "https://localhost:8080/",
          "height": 204
        },
        "outputId": "ab6f84df-2db7-4b70-e52a-45e9db8e8493"
      },
      "source": [
        "#Criação de um dataframe para avaliação dos resultados do Gradient Boosting\n",
        "resultados = pd.DataFrame()\n",
        "resultados['revenue'] = y_test\n",
        "resultados['predict'] = gb_predict\n",
        "resultados['erro'] = gb_predict - y_test\n",
        "resultados.head()"
      ],
      "execution_count": null,
      "outputs": [
        {
          "output_type": "execute_result",
          "data": {
            "text/html": [
              "<div>\n",
              "<style scoped>\n",
              "    .dataframe tbody tr th:only-of-type {\n",
              "        vertical-align: middle;\n",
              "    }\n",
              "\n",
              "    .dataframe tbody tr th {\n",
              "        vertical-align: top;\n",
              "    }\n",
              "\n",
              "    .dataframe thead th {\n",
              "        text-align: right;\n",
              "    }\n",
              "</style>\n",
              "<table border=\"1\" class=\"dataframe\">\n",
              "  <thead>\n",
              "    <tr style=\"text-align: right;\">\n",
              "      <th></th>\n",
              "      <th>revenue</th>\n",
              "      <th>predict</th>\n",
              "      <th>erro</th>\n",
              "    </tr>\n",
              "  </thead>\n",
              "  <tbody>\n",
              "    <tr>\n",
              "      <th>4122</th>\n",
              "      <td>0.0</td>\n",
              "      <td>0.032582</td>\n",
              "      <td>0.032582</td>\n",
              "    </tr>\n",
              "    <tr>\n",
              "      <th>4065</th>\n",
              "      <td>0.0</td>\n",
              "      <td>0.000000</td>\n",
              "      <td>0.000000</td>\n",
              "    </tr>\n",
              "    <tr>\n",
              "      <th>1731</th>\n",
              "      <td>0.0</td>\n",
              "      <td>0.000000</td>\n",
              "      <td>0.000000</td>\n",
              "    </tr>\n",
              "    <tr>\n",
              "      <th>4740</th>\n",
              "      <td>0.0</td>\n",
              "      <td>0.000000</td>\n",
              "      <td>0.000000</td>\n",
              "    </tr>\n",
              "    <tr>\n",
              "      <th>6391</th>\n",
              "      <td>0.0</td>\n",
              "      <td>0.000000</td>\n",
              "      <td>0.000000</td>\n",
              "    </tr>\n",
              "  </tbody>\n",
              "</table>\n",
              "</div>"
            ],
            "text/plain": [
              "      revenue   predict      erro\n",
              "4122      0.0  0.032582  0.032582\n",
              "4065      0.0  0.000000  0.000000\n",
              "1731      0.0  0.000000  0.000000\n",
              "4740      0.0  0.000000  0.000000\n",
              "6391      0.0  0.000000  0.000000"
            ]
          },
          "metadata": {
            "tags": []
          },
          "execution_count": 163
        }
      ]
    },
    {
      "cell_type": "code",
      "metadata": {
        "id": "60LBOEGS7c5_",
        "colab": {
          "base_uri": "https://localhost:8080/"
        },
        "outputId": "8e39db23-e205-45b9-e378-f8dea656c617"
      },
      "source": [
        "# Calcular o RMSE com Gradient Boosting\n",
        "np.sqrt(mean_squared_error(y_test,gb_predict))"
      ],
      "execution_count": null,
      "outputs": [
        {
          "output_type": "execute_result",
          "data": {
            "text/plain": [
              "23.09413632899293"
            ]
          },
          "metadata": {
            "tags": []
          },
          "execution_count": 164
        }
      ]
    }
  ]
}